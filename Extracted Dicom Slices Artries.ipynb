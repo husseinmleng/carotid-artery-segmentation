{
 "cells": [
  {
   "cell_type": "code",
   "execution_count": 1,
   "id": "3b21ea1a-98e9-4c0c-b212-0d6f10bfff93",
   "metadata": {},
   "outputs": [
    {
     "data": {
      "text/plain": [
       "'Use sliders to slice volume\\nClick button to change colormap'"
      ]
     },
     "execution_count": 1,
     "metadata": {},
     "output_type": "execute_result"
    }
   ],
   "source": [
    "import ipywidgets as widgets\n",
    "import matplotlib.pyplot as plt \n",
    "from IPython.display import Image as displayImage\n",
    "from matplotlib.animation import FuncAnimation\n",
    "import pydicom as dicom\n",
    "import pydicom as dc\n",
    "from PIL import Image\n",
    "import pydicom\n",
    "from pathlib import Path\n",
    "import copy\n",
    "import os\n",
    "import scipy.ndimage\n",
    "\n",
    "import glob\n",
    "import numpy as np\n",
    "\"\"\"Use sliders to slice volume\n",
    "Click button to change colormap\"\"\""
   ]
  },
  {
   "cell_type": "code",
   "execution_count": 2,
   "id": "612d63ef-13f7-49e3-a272-c22e40076650",
   "metadata": {},
   "outputs": [],
   "source": [
    "Root_path_images = \"D:\\\\Jupyter Notebooks\\\\Freelancing\\\\Monai Dicom\\\\Dicom Processing\\\\Extracted Dicom Slices Artries\\\\Carotid007\\\\IMAGES\\\\IM00191\"\n",
    "file_input = \"D:\\\\Jupyter Notebooks\\\\Freelancing\\\\Monai Dicom\\\\Dicom Processing\\\\Extracted Dicom Slices Artries\\\\Carotid007\\\\IMAGES\\\\\""
   ]
  },
  {
   "cell_type": "code",
   "execution_count": 3,
   "id": "d69006bd-f024-43c9-a395-0b2c2beefab6",
   "metadata": {},
   "outputs": [
    {
     "name": "stdout",
     "output_type": "stream",
     "text": [
      "\n",
      "and shape of images are (512, 512)\n"
     ]
    }
   ],
   "source": [
    "read_file = dc.read_file(Root_path_images)\n",
    "img_file = read_file.pixel_array\n",
    "print(f\"\\nand shape of images are {img_file.shape}\")"
   ]
  },
  {
   "cell_type": "code",
   "execution_count": 4,
   "id": "53c81a9e-9b70-4b2f-933d-ff63cd2f7470",
   "metadata": {},
   "outputs": [],
   "source": [
    "#      \n",
    "# Loop over the image files and store everything into a list.\n",
    "# \n",
    "\n",
    "def load_scan(path):\n",
    "    slices = [dicom.read_file(path + '/' + s) for s in os.listdir(path)]\n",
    "    slices.sort(key = lambda x: int(x.InstanceNumber))\n",
    "    try:\n",
    "        slice_thickness = np.abs(slices[0].ImagePositionPatient[2] - slices[1].ImagePositionPatient[2])\n",
    "    except:\n",
    "        slice_thickness = np.abs(slices[0].SliceLocation - slices[1].SliceLocation)\n",
    "        \n",
    "    for s in slices:\n",
    "        s.SliceThickness = slice_thickness\n",
    "        \n",
    "    ps = slices[0].PixelSpacing\n",
    "    ss = slices[0].SliceThickness\n",
    "    ax_aspect = ps[1] / ps[0]\n",
    "    sag_aspect = ps[1] / ss\n",
    "    cor_aspect = ss / ps[0]\n",
    "    return slices , ax_aspect , sag_aspect , cor_aspect\n",
    "\n",
    "def get_pixels_hu(scans):\n",
    "    image = np.stack([s.pixel_array for s in scans])\n",
    "    # Convert to int16 (from sometimes int16), \n",
    "    # should be possible as values should always be low enough (<32k)\n",
    "    image = image.astype(np.int16)\n",
    "\n",
    "    # Set outside-of-scan pixels to 1\n",
    "    # The intercept is usually -1024, so air is approximately 0\n",
    "    image[image == -2000] = 0\n",
    "    \n",
    "    # Convert to Hounsfield units (HU)\n",
    "    intercept = scans[0].RescaleIntercept\n",
    "    slope = scans[0].RescaleSlope\n",
    "    \n",
    "    if slope != 1:\n",
    "        image = slope * image.astype(np.float64)\n",
    "        image = image.astype(np.int16)\n",
    "        \n",
    "    image += np.int16(intercept)\n",
    "    \n",
    "    return np.array(image, dtype=np.int16)\n",
    "\n",
    "id=0\n",
    "patient , ax_aspect , sag_aspect , cor_aspect = load_scan(file_input)\n",
    "imgs = get_pixels_hu(patient)"
   ]
  },
  {
   "cell_type": "code",
   "execution_count": 6,
   "id": "e7320cdf-87e5-4b64-9b1a-ce171847a6f8",
   "metadata": {},
   "outputs": [],
   "source": []
  },
  {
   "cell_type": "code",
   "execution_count": 87,
   "id": "653acdb5-b04d-45b7-b7cc-cc926c360d5a",
   "metadata": {},
   "outputs": [
    {
     "name": "stdout",
     "output_type": "stream",
     "text": [
      "Slice Thickness: 0.625000\n",
      "Pixel Spacing (row, col): (0.443359, 0.443359) \n"
     ]
    }
   ],
   "source": [
    "print(\"Slice Thickness: %f\" % patient[0].SliceThickness)\n",
    "print(\"Pixel Spacing (row, col): (%f, %f) \" % (patient[0].PixelSpacing[0], patient[0].PixelSpacing[1]))"
   ]
  },
  {
   "cell_type": "code",
   "execution_count": 10,
   "id": "28ec13e3-5a42-4342-8717-3e33043a1b4a",
   "metadata": {},
   "outputs": [
    {
     "name": "stdout",
     "output_type": "stream",
     "text": [
      "Shape befoimgs_after_resampre resampling\t(360, 512, 512)\n"
     ]
    },
    {
     "name": "stderr",
     "output_type": "stream",
     "text": [
      "C:\\Users\\husse\\AppData\\Local\\Temp\\ipykernel_660\\4063565505.py:25: DeprecationWarning: Please use `zoom` from the `scipy.ndimage` namespace, the `scipy.ndimage.interpolation` namespace is deprecated.\n",
      "  image = scipy.ndimage.interpolation.zoom(image, (resize_x, resize_y, resize_z), order=1)\n"
     ]
    },
    {
     "name": "stdout",
     "output_type": "stream",
     "text": [
      "Shape after resampling:\t(160, 227, 320)\n",
      "New spacing: (0.99755775, 0.999999154185022, 1.0)\n"
     ]
    }
   ],
   "source": [
    "desired_spacing = [1, 1, 1]\n",
    "X = 0\n",
    "Y = 1\n",
    "Z = 2\n",
    "def resample3d(image, scan, new_spacing):\n",
    "    # Determine current pixel spacing\n",
    "    spacing = map(float, [scan[0].PixelSpacing[X], scan[0].PixelSpacing[Y], scan[0].SliceThickness])\n",
    "    spacing = np.array(list(spacing))\n",
    "    \n",
    "    resize_x    = spacing[X] / new_spacing[X]\n",
    "    new_shape_x = np.round(image.shape[X] * resize_x)\n",
    "    resize_x    = float(new_shape_x) / float(image.shape[X])\n",
    "    sx = spacing[X] / resize_x\n",
    "\n",
    "    resize_y    = spacing[Y] / new_spacing[Y]\n",
    "    new_shape_y = np.round(image.shape[Y] * resize_y)\n",
    "    resize_y    = new_shape_y / image.shape[Y]\n",
    "    sy = spacing[Y] / resize_y\n",
    "\n",
    "    resize_z    = spacing[Z] / new_spacing[Z]\n",
    "    new_shape_z = np.round(image.shape[Z] * resize_z)\n",
    "    resize_z    = float(new_shape_z) / float(image.shape[Z])\n",
    "    sz = spacing[Z] / resize_z\n",
    "    \n",
    "    image = scipy.ndimage.interpolation.zoom(image, (resize_x, resize_y, resize_z), order=1)\n",
    "    \n",
    "    return (image, (sx, sy, sz))\n",
    "\n",
    "print(f\"Shape befoimgs_after_resampre resampling\\t{imgs.shape}\")\n",
    "imgs_after_resamp, spacing = resample3d(imgs, patient, desired_spacing)\n",
    "print(f\"Shape after resampling:\\t{imgs_after_resamp.shape}\")\n",
    "print(f\"New spacing: {spacing}\")"
   ]
  },
  {
   "cell_type": "code",
   "execution_count": 9,
   "id": "23831665-28da-48e5-bbcd-671b652ba57f",
   "metadata": {},
   "outputs": [
    {
     "name": "stdout",
     "output_type": "stream",
     "text": [
      "Number of Slices:\n",
      "\t Axial= 160 Slices\n",
      "\t Coronal= 227 Slices\n",
      "\t Sagittal= 320 Slices\n"
     ]
    }
   ],
   "source": [
    "# The shape of the stacked images in each plane\n",
    "# (Axial, Coronal, and Sagittal, respectively)\n",
    "n0, n1, n2 = imgs_after_resamp.shape\n",
    "# Print the ouput\n",
    "print(\"Number of Slices:\\n\\t\", \"Axial=\", n0, \"Slices\\n\\t\",\n",
    "                               \"Coronal=\", n1, \"Slices\\n\\t\",\n",
    "                               \"Sagittal=\", n2, \"Slices\")"
   ]
  },
  {
   "cell_type": "code",
   "execution_count": 11,
   "id": "571b1342-6b1e-4277-a068-5384a35c9735",
   "metadata": {},
   "outputs": [
    {
     "data": {
      "image/png": "[encoded data removed]",
      "text/plain": [
       "<Figure size 1000x800 with 3 Axes>"
      ]
     },
     "metadata": {},
     "output_type": "display_data"
    }
   ],
   "source": [
    "# Create a larger subplot figure\n",
    "plt.figure(figsize=(10, 8))\n",
    "\n",
    "# Plot the orthogonal slices\n",
    "a1 = plt.subplot(2, 2, 1)\n",
    "plt.imshow(imgs_after_resamp[100,:,: ], cmap=\"gray\")\n",
    "a1.set_aspect(ax_aspect)\n",
    "a1.set_title('Axial')\n",
    "\n",
    "a2 = plt.subplot(2, 2, 2)\n",
    "plt.imshow(imgs_after_resamp[:, 162, :].T, cmap=\"gray\")\n",
    "a2.set_aspect(cor_aspect)\n",
    "a2.set_title('Coronal')\n",
    "a3 = plt.subplot(2, 1, 2)  # Using 2 rows, 1 column for larger coronal plot\n",
    "plt.imshow(imgs_after_resamp[:, :,112 ].T, cmap=\"gray\", origin='lower')\n",
    "a3.set_aspect(sag_aspect)\n",
    "a3.set_title('Sagittal')\n",
    "\n",
    "plt.tight_layout()  # Adjust subplot layout for better spacing\n",
    "plt.show()"
   ]
  },
  {
   "cell_type": "code",
   "execution_count": 13,
   "id": "69df6cca-54d3-4da3-b8c2-3f00888b69f8",
   "metadata": {},
   "outputs": [
    {
     "data": {
      "application/vnd.jupyter.widget-view+json": {
       "model_id": "8b4af55b3abb4881bc54b9772d8e2ae1",
       "version_major": 2,
       "version_minor": 0
      },
      "text/plain": [
       "interactive(children=(IntSlider(value=79, description='axial_slice', max=159), IntSlider(value=100, descriptio…"
      ]
     },
     "metadata": {},
     "output_type": "display_data"
    }
   ],
   "source": [
    "# Add three sliders that start with 0 and ends at the number of slices\n",
    "# along each plane.\n",
    "# Axial:    n0=99   slice\n",
    "# Corornal: n1=512  slice\n",
    "# Sagittal: n2=512  slice\n",
    "@widgets.interact(axial_slice=(0,n0-1), coronal_slice=(0,n1-1),\\\n",
    "                  sagittal_slice=(0,n2-1))\n",
    "def slicer(axial_slice, coronal_slice=100, sagittal_slice=100):\n",
    "  fig, ax = plt.subplots(1, 3, figsize=(16, 16))\n",
    "\n",
    "\n",
    "  # Show the specfied slice on the axial plane with 'gray' color-map\n",
    "  # and axial aspect ratio.\n",
    "  ax[0].imshow(imgs_after_resamp[axial_slice,:,:], cmap='gray', aspect= ax_aspect)\n",
    "  ax[0].axis('off')\n",
    "  ax[0].set_title('Axial')\n",
    "\n",
    "  # Show the specified slice on the coronal plane with 'gray' color-map\n",
    "  # and coronal aspect ratio.\n",
    "  ax[1].imshow(imgs_after_resamp[:,coronal_slice,:],cmap='gray', aspect= cor_aspect)\n",
    "  ax[1].axis('off')\n",
    "  ax[1].set_title('Coronal')\n",
    "\n",
    "  # Show the specified slice on the sagittal plane with 'gray' color-map\n",
    "  # and sagittal aspect ratio.\n",
    "  ax[2].imshow(imgs_after_resamp[:,:,sagittal_slice].T, cmap='gray', aspect= sag_aspect)\n",
    "  ax[2].axis('off')\n",
    "  ax[2].set_title('Sagittal')"
   ]
  },
  {
   "cell_type": "code",
   "execution_count": 14,
   "id": "919ade8f-67f0-44db-b70b-effd91a2e712",
   "metadata": {
    "scrolled": true
   },
   "outputs": [
    {
     "data": {
      "image/png": "[encoded data removed]",
      "text/plain": [
       "<Figure size 1200x600 with 2 Axes>"
      ]
     },
     "metadata": {},
     "output_type": "display_data"
    }
   ],
   "source": [
    "# Set up a loop to generate frames for the animation\n",
    "fig, axs = plt.subplots(1, 2, figsize=(12, 6), constrained_layout=False)\n",
    "def update(frame):\n",
    "    axs[0].clear()\n",
    "    axs[0].imshow(imgs_after_resamp[:, frame , :], cmap='gray')\n",
    "    axs[0].set_title('Coronal', fontsize=16, fontweight='bold')\n",
    "    axs[0].set_aspect(cor_aspect)\n",
    "    axs[0].set_xlabel('X-axis', fontsize=14, fontweight='bold')\n",
    "    axs[0].set_ylabel('Y-axis', fontsize=14, fontweight='bold')\n",
    "\n",
    "    axs[1].clear()\n",
    "    axs[1].imshow(imgs_after_resamp[:,:,frame].T, cmap='gray')\n",
    "    axs[1].set_title('Sagittal', fontsize=16, fontweight='bold')\n",
    "    axs[1].set_aspect(sag_aspect)\n",
    "    axs[1].set_xlabel('X-axis', fontsize=14, fontweight='bold')\n",
    "    axs[1].set_ylabel('Y-axis', fontsize=14, fontweight='bold')\n",
    "    fig.suptitle('Coronal and Sagittal Visualization : \\n Slice:  {:03d}   of   {}'.format(frame, imgs_after_resamp.shape[2]), fontsize=20, fontweight='bold')\n",
    "    fig.canvas.draw()\n",
    "\n",
    "\n",
    "# Generate the animation using FuncAnimation\n",
    "ani = FuncAnimation(fig, update, frames=imgs_after_resamp.shape[2], interval=50)\n"
   ]
  },
  {
   "cell_type": "code",
   "execution_count": 96,
   "id": "10aab047-e906-4b4d-91a8-31a2c03889d7",
   "metadata": {},
   "outputs": [],
   "source": [
    "import os\n",
    "import numpy as np\n",
    "from PIL import Image\n",
    "import matplotlib.pyplot as plt\n",
    "\n",
    "def save_extracted_slices_as_png(imgs_after_resamp, sagittal_start, sagittal_end, coronal_start, coronal_end, output_dir):\n",
    "    # Create the output directory if it doesn't exist\n",
    "    os.makedirs(output_dir, exist_ok=True)\n",
    "\n",
    "    # Create separate directories for coronal and sagittal images\n",
    "    coronal_output_dir = os.path.join(output_dir, \"coronal_slices\")\n",
    "    sagittal_output_dir = os.path.join(output_dir, \"sagittal_slices\")\n",
    "    os.makedirs(coronal_output_dir, exist_ok=True)\n",
    "    os.makedirs(sagittal_output_dir, exist_ok=True)\n",
    "\n",
    "    # Extract and save the coronal slices within the specified range\n",
    "    for coronal_slice in range(coronal_start, coronal_end + 1):\n",
    "        # Extract the coronal slice\n",
    "        coronal_img = imgs_after_resamp[:, coronal_slice, :]\n",
    "        plt.imshow(coronal_img, cmap=\"gray\")  # Use the \"gray\" colormap\n",
    "        plt.axis('off')\n",
    "        # Save PNG image for coronal slice\n",
    "        coronal_png_filename = os.path.join(coronal_output_dir, f\"coronal_{coronal_slice}.png\")\n",
    "        plt.savefig(coronal_png_filename, bbox_inches='tight')  # Save the current plot\n",
    "        plt.close()  # Close the current plot\n",
    "\n",
    "    # Extract and save the sagittal slices within the specified range\n",
    "    for sagittal_slice in range(sagittal_start, sagittal_end + 1):\n",
    "        # Extract the sagittal slice\n",
    "        sagittal_img = imgs_after_resamp[:, :, sagittal_slice].T\n",
    "        plt.imshow(sagittal_img, cmap=\"gray\")  # Use the \"gray\" colormap\n",
    "        plt.axis('off')\n",
    "        # Save PNG image for sagittal slice\n",
    "        sagittal_png_filename = os.path.join(sagittal_output_dir, f\"sagittal_{sagittal_slice}.png\")\n",
    "        plt.savefig(sagittal_png_filename, bbox_inches='tight')  # Save the current plot\n",
    "        plt.close()  # Close the current plot\n",
    "\n",
    "# Example usage\n",
    "sagittal_start = 0  # Replace with your desired sagittal start slice index\n",
    "sagittal_end = 130   # Replace with your desired sagittal end slice index\n",
    "coronal_start = 40   # Replace with your desired coronal start slice index\n",
    "coronal_end = 162     # Replace with your desired coronal end slice index\n",
    "output_dir = \"output_slices\"  # Replace with your desired output directory\n",
    "\n",
    "save_extracted_slices_as_png(imgs_after_resamp, sagittal_start, sagittal_end, coronal_start, coronal_end, output_dir)\n"
   ]
  },
  {
   "cell_type": "markdown",
   "id": "7902605a",
   "metadata": {},
   "source": [
    "# Detect & Save "
   ]
  },
  {
   "cell_type": "code",
   "execution_count": 33,
   "id": "a462e655",
   "metadata": {},
   "outputs": [],
   "source": [
    "# get an array of the slices of the coronal view of the arteries\n",
    "coronal_imgs = []\n",
    "for i in range(imgs_after_resamp.shape[1]):\n",
    "    coronal_imgs.append(imgs_after_resamp[:, i, :])"
   ]
  },
  {
   "cell_type": "code",
   "execution_count": 35,
   "id": "01dada8f",
   "metadata": {},
   "outputs": [
    {
     "data": {
      "text/plain": [
       "(227, 160, 320)"
      ]
     },
     "execution_count": 35,
     "metadata": {},
     "output_type": "execute_result"
    }
   ],
   "source": [
    "coronal_imgs = np.array(coronal_imgs)\n",
    "coronal_imgs.shape"
   ]
  },
  {
   "cell_type": "code",
   "execution_count": 40,
   "id": "60b757da-430c-4fd5-93a5-7116af3142aa",
   "metadata": {},
   "outputs": [
    {
     "name": "stderr",
     "output_type": "stream",
     "text": [
      "\n",
      "0: 640x640 108 carotid-arterys, 680.1ms\n",
      "Speed: 0.0ms preprocess, 680.1ms inference, 168.1ms postprocess per image at shape (1, 3, 640, 640)\n",
      "\n",
      "0: 640x640 117 carotid-arterys, 703.1ms\n",
      "Speed: 0.0ms preprocess, 703.1ms inference, 212.1ms postprocess per image at shape (1, 3, 640, 640)\n",
      "\n",
      "WARNING  torch.Tensor inputs should be normalized 0.0-1.0 but max value is 50.84375. Dividing input by 255.\n",
      "0: 640x640 (no detections), 387.1ms\n",
      "Speed: 0.0ms preprocess, 387.1ms inference, 1.0ms postprocess per image at shape (1, 3, 640, 640)\n",
      "\n",
      "WARNING  torch.Tensor inputs should be normalized 0.0-1.0 but max value is 67.03125. Dividing input by 255.\n"
     ]
    },
    {
     "name": "stdout",
     "output_type": "stream",
     "text": [
      "no masks found\n"
     ]
    },
    {
     "name": "stderr",
     "output_type": "stream",
     "text": [
      "0: 640x640 (no detections), 444.6ms\n",
      "Speed: 0.0ms preprocess, 444.6ms inference, 1.0ms postprocess per image at shape (1, 3, 640, 640)\n",
      "\n",
      "WARNING  torch.Tensor inputs should be normalized 0.0-1.0 but max value is 68.65625. Dividing input by 255.\n"
     ]
    },
    {
     "name": "stdout",
     "output_type": "stream",
     "text": [
      "no masks found\n"
     ]
    },
    {
     "name": "stderr",
     "output_type": "stream",
     "text": [
      "0: 640x640 (no detections), 421.1ms\n",
      "Speed: 0.0ms preprocess, 421.1ms inference, 0.0ms postprocess per image at shape (1, 3, 640, 640)\n",
      "\n",
      "WARNING  torch.Tensor inputs should be normalized 0.0-1.0 but max value is 58.71875. Dividing input by 255.\n"
     ]
    },
    {
     "name": "stdout",
     "output_type": "stream",
     "text": [
      "no masks found\n"
     ]
    },
    {
     "name": "stderr",
     "output_type": "stream",
     "text": [
      "0: 640x640 (no detections), 406.1ms\n",
      "Speed: 0.0ms preprocess, 406.1ms inference, 0.0ms postprocess per image at shape (1, 3, 640, 640)\n",
      "\n",
      "WARNING  torch.Tensor inputs should be normalized 0.0-1.0 but max value is 70.25. Dividing input by 255.\n"
     ]
    },
    {
     "name": "stdout",
     "output_type": "stream",
     "text": [
      "no masks found\n"
     ]
    },
    {
     "name": "stderr",
     "output_type": "stream",
     "text": [
      "0: 640x640 (no detections), 453.6ms\n",
      "Speed: 0.0ms preprocess, 453.6ms inference, 1.0ms postprocess per image at shape (1, 3, 640, 640)\n",
      "\n",
      "WARNING  torch.Tensor inputs should be normalized 0.0-1.0 but max value is 79.1875. Dividing input by 255.\n"
     ]
    },
    {
     "name": "stdout",
     "output_type": "stream",
     "text": [
      "no masks found\n"
     ]
    },
    {
     "name": "stderr",
     "output_type": "stream",
     "text": [
      "0: 640x640 (no detections), 396.7ms\n",
      "Speed: 0.0ms preprocess, 396.7ms inference, 1.0ms postprocess per image at shape (1, 3, 640, 640)\n",
      "\n",
      "WARNING  torch.Tensor inputs should be normalized 0.0-1.0 but max value is 68.96875. Dividing input by 255.\n"
     ]
    },
    {
     "name": "stdout",
     "output_type": "stream",
     "text": [
      "no masks found\n"
     ]
    },
    {
     "name": "stderr",
     "output_type": "stream",
     "text": [
      "0: 640x640 (no detections), 457.6ms\n",
      "Speed: 0.0ms preprocess, 457.6ms inference, 1.0ms postprocess per image at shape (1, 3, 640, 640)\n",
      "\n",
      "WARNING  torch.Tensor inputs should be normalized 0.0-1.0 but max value is 87.15625. Dividing input by 255.\n"
     ]
    },
    {
     "name": "stdout",
     "output_type": "stream",
     "text": [
      "no masks found\n"
     ]
    },
    {
     "name": "stderr",
     "output_type": "stream",
     "text": [
      "0: 640x640 (no detections), 439.7ms\n",
      "Speed: 0.0ms preprocess, 439.7ms inference, 1.0ms postprocess per image at shape (1, 3, 640, 640)\n",
      "\n",
      "WARNING  torch.Tensor inputs should be normalized 0.0-1.0 but max value is 81.1875. Dividing input by 255.\n"
     ]
    },
    {
     "name": "stdout",
     "output_type": "stream",
     "text": [
      "no masks found\n"
     ]
    },
    {
     "name": "stderr",
     "output_type": "stream",
     "text": [
      "0: 640x640 (no detections), 394.7ms\n",
      "Speed: 0.0ms preprocess, 394.7ms inference, 1.0ms postprocess per image at shape (1, 3, 640, 640)\n",
      "\n",
      "WARNING  torch.Tensor inputs should be normalized 0.0-1.0 but max value is 74.59375. Dividing input by 255.\n"
     ]
    },
    {
     "name": "stdout",
     "output_type": "stream",
     "text": [
      "no masks found\n"
     ]
    },
    {
     "name": "stderr",
     "output_type": "stream",
     "text": [
      "0: 640x640 (no detections), 451.7ms\n",
      "Speed: 0.0ms preprocess, 451.7ms inference, 1.0ms postprocess per image at shape (1, 3, 640, 640)\n",
      "\n",
      "WARNING  torch.Tensor inputs should be normalized 0.0-1.0 but max value is 83.21875. Dividing input by 255.\n"
     ]
    },
    {
     "name": "stdout",
     "output_type": "stream",
     "text": [
      "no masks found\n"
     ]
    },
    {
     "name": "stderr",
     "output_type": "stream",
     "text": [
      "0: 640x640 (no detections), 460.2ms\n",
      "Speed: 0.0ms preprocess, 460.2ms inference, 1.0ms postprocess per image at shape (1, 3, 640, 640)\n",
      "\n",
      "WARNING  torch.Tensor inputs should be normalized 0.0-1.0 but max value is 98.5. Dividing input by 255.\n"
     ]
    },
    {
     "name": "stdout",
     "output_type": "stream",
     "text": [
      "no masks found\n"
     ]
    },
    {
     "name": "stderr",
     "output_type": "stream",
     "text": [
      "0: 640x640 (no detections), 396.8ms\n",
      "Speed: 0.0ms preprocess, 396.8ms inference, 1.0ms postprocess per image at shape (1, 3, 640, 640)\n",
      "\n",
      "WARNING  torch.Tensor inputs should be normalized 0.0-1.0 but max value is 108.0625. Dividing input by 255.\n"
     ]
    },
    {
     "name": "stdout",
     "output_type": "stream",
     "text": [
      "no masks found\n"
     ]
    },
    {
     "name": "stderr",
     "output_type": "stream",
     "text": [
      "0: 640x640 (no detections), 473.6ms\n",
      "Speed: 0.0ms preprocess, 473.6ms inference, 0.0ms postprocess per image at shape (1, 3, 640, 640)\n",
      "\n",
      "WARNING  torch.Tensor inputs should be normalized 0.0-1.0 but max value is 412.9375. Dividing input by 255.\n"
     ]
    },
    {
     "name": "stdout",
     "output_type": "stream",
     "text": [
      "no masks found\n"
     ]
    },
    {
     "name": "stderr",
     "output_type": "stream",
     "text": [
      "0: 640x640 (no detections), 447.0ms\n",
      "Speed: 0.0ms preprocess, 447.0ms inference, 1.0ms postprocess per image at shape (1, 3, 640, 640)\n",
      "\n",
      "WARNING  torch.Tensor inputs should be normalized 0.0-1.0 but max value is 1635.90625. Dividing input by 255.\n"
     ]
    },
    {
     "name": "stdout",
     "output_type": "stream",
     "text": [
      "no masks found\n"
     ]
    },
    {
     "name": "stderr",
     "output_type": "stream",
     "text": [
      "0: 640x640 (no detections), 403.0ms\n",
      "Speed: 1.0ms preprocess, 403.0ms inference, 0.0ms postprocess per image at shape (1, 3, 640, 640)\n",
      "\n",
      "WARNING  torch.Tensor inputs should be normalized 0.0-1.0 but max value is 2004.625. Dividing input by 255.\n"
     ]
    },
    {
     "name": "stdout",
     "output_type": "stream",
     "text": [
      "no masks found\n"
     ]
    },
    {
     "name": "stderr",
     "output_type": "stream",
     "text": [
      "0: 640x640 (no detections), 456.2ms\n",
      "Speed: 0.0ms preprocess, 456.2ms inference, 1.0ms postprocess per image at shape (1, 3, 640, 640)\n",
      "\n",
      "WARNING  torch.Tensor inputs should be normalized 0.0-1.0 but max value is 2004.15625. Dividing input by 255.\n"
     ]
    },
    {
     "name": "stdout",
     "output_type": "stream",
     "text": [
      "no masks found\n"
     ]
    },
    {
     "name": "stderr",
     "output_type": "stream",
     "text": [
      "0: 640x640 (no detections), 423.7ms\n",
      "Speed: 0.0ms preprocess, 423.7ms inference, 0.0ms postprocess per image at shape (1, 3, 640, 640)\n",
      "\n",
      "WARNING  torch.Tensor inputs should be normalized 0.0-1.0 but max value is 2627.9375. Dividing input by 255.\n"
     ]
    },
    {
     "name": "stdout",
     "output_type": "stream",
     "text": [
      "no masks found\n"
     ]
    },
    {
     "name": "stderr",
     "output_type": "stream",
     "text": [
      "0: 640x640 (no detections), 482.6ms\n",
      "Speed: 0.0ms preprocess, 482.6ms inference, 1.0ms postprocess per image at shape (1, 3, 640, 640)\n",
      "\n",
      "WARNING  torch.Tensor inputs should be normalized 0.0-1.0 but max value is 2712.90625. Dividing input by 255.\n"
     ]
    },
    {
     "name": "stdout",
     "output_type": "stream",
     "text": [
      "no masks found\n"
     ]
    },
    {
     "name": "stderr",
     "output_type": "stream",
     "text": [
      "0: 640x640 (no detections), 418.1ms\n",
      "Speed: 0.0ms preprocess, 418.1ms inference, 0.0ms postprocess per image at shape (1, 3, 640, 640)\n",
      "\n",
      "WARNING  torch.Tensor inputs should be normalized 0.0-1.0 but max value is 2782.03125. Dividing input by 255.\n"
     ]
    },
    {
     "name": "stdout",
     "output_type": "stream",
     "text": [
      "no masks found\n"
     ]
    },
    {
     "name": "stderr",
     "output_type": "stream",
     "text": [
      "0: 640x640 (no detections), 466.6ms\n",
      "Speed: 0.0ms preprocess, 466.6ms inference, 0.0ms postprocess per image at shape (1, 3, 640, 640)\n",
      "\n",
      "WARNING  torch.Tensor inputs should be normalized 0.0-1.0 but max value is 2868.125. Dividing input by 255.\n"
     ]
    },
    {
     "name": "stdout",
     "output_type": "stream",
     "text": [
      "no masks found\n"
     ]
    },
    {
     "name": "stderr",
     "output_type": "stream",
     "text": [
      "0: 640x640 (no detections), 486.6ms\n",
      "Speed: 0.0ms preprocess, 486.6ms inference, 1.0ms postprocess per image at shape (1, 3, 640, 640)\n",
      "\n",
      "WARNING  torch.Tensor inputs should be normalized 0.0-1.0 but max value is 2767.6875. Dividing input by 255.\n"
     ]
    },
    {
     "name": "stdout",
     "output_type": "stream",
     "text": [
      "no masks found\n"
     ]
    },
    {
     "name": "stderr",
     "output_type": "stream",
     "text": [
      "0: 640x640 (no detections), 415.1ms\n",
      "Speed: 0.0ms preprocess, 415.1ms inference, 0.0ms postprocess per image at shape (1, 3, 640, 640)\n",
      "\n",
      "WARNING  torch.Tensor inputs should be normalized 0.0-1.0 but max value is 2335.5. Dividing input by 255.\n"
     ]
    },
    {
     "name": "stdout",
     "output_type": "stream",
     "text": [
      "no masks found\n"
     ]
    },
    {
     "name": "stderr",
     "output_type": "stream",
     "text": [
      "0: 640x640 (no detections), 467.1ms\n",
      "Speed: 0.0ms preprocess, 467.1ms inference, 1.0ms postprocess per image at shape (1, 3, 640, 640)\n",
      "\n",
      "WARNING  torch.Tensor inputs should be normalized 0.0-1.0 but max value is 1867.21875. Dividing input by 255.\n"
     ]
    },
    {
     "name": "stdout",
     "output_type": "stream",
     "text": [
      "no masks found\n"
     ]
    },
    {
     "name": "stderr",
     "output_type": "stream",
     "text": [
      "0: 640x640 (no detections), 474.7ms\n",
      "Speed: 0.0ms preprocess, 474.7ms inference, 0.0ms postprocess per image at shape (1, 3, 640, 640)\n",
      "\n",
      "WARNING  torch.Tensor inputs should be normalized 0.0-1.0 but max value is 1861.1875. Dividing input by 255.\n"
     ]
    },
    {
     "name": "stdout",
     "output_type": "stream",
     "text": [
      "no masks found\n"
     ]
    },
    {
     "name": "stderr",
     "output_type": "stream",
     "text": [
      "0: 640x640 (no detections), 422.2ms\n",
      "Speed: 0.0ms preprocess, 422.2ms inference, 1.0ms postprocess per image at shape (1, 3, 640, 640)\n",
      "\n",
      "WARNING  torch.Tensor inputs should be normalized 0.0-1.0 but max value is 1852.8125. Dividing input by 255.\n"
     ]
    },
    {
     "name": "stdout",
     "output_type": "stream",
     "text": [
      "no masks found\n"
     ]
    },
    {
     "name": "stderr",
     "output_type": "stream",
     "text": [
      "0: 640x640 (no detections), 470.2ms\n",
      "Speed: 0.0ms preprocess, 470.2ms inference, 0.0ms postprocess per image at shape (1, 3, 640, 640)\n",
      "\n",
      "WARNING  torch.Tensor inputs should be normalized 0.0-1.0 but max value is 1851.53125. Dividing input by 255.\n"
     ]
    },
    {
     "name": "stdout",
     "output_type": "stream",
     "text": [
      "no masks found\n"
     ]
    },
    {
     "name": "stderr",
     "output_type": "stream",
     "text": [
      "0: 640x640 (no detections), 465.1ms\n",
      "Speed: 0.0ms preprocess, 465.1ms inference, 1.0ms postprocess per image at shape (1, 3, 640, 640)\n",
      "\n",
      "WARNING  torch.Tensor inputs should be normalized 0.0-1.0 but max value is 1712.0625. Dividing input by 255.\n"
     ]
    },
    {
     "name": "stdout",
     "output_type": "stream",
     "text": [
      "no masks found\n"
     ]
    },
    {
     "name": "stderr",
     "output_type": "stream",
     "text": [
      "0: 640x640 (no detections), 425.6ms\n",
      "Speed: 0.0ms preprocess, 425.6ms inference, 0.0ms postprocess per image at shape (1, 3, 640, 640)\n",
      "\n",
      "WARNING  torch.Tensor inputs should be normalized 0.0-1.0 but max value is 1702.15625. Dividing input by 255.\n"
     ]
    },
    {
     "name": "stdout",
     "output_type": "stream",
     "text": [
      "no masks found\n"
     ]
    },
    {
     "name": "stderr",
     "output_type": "stream",
     "text": [
      "0: 640x640 (no detections), 485.6ms\n",
      "Speed: 0.0ms preprocess, 485.6ms inference, 0.0ms postprocess per image at shape (1, 3, 640, 640)\n",
      "\n",
      "WARNING  torch.Tensor inputs should be normalized 0.0-1.0 but max value is 1711.5. Dividing input by 255.\n"
     ]
    },
    {
     "name": "stdout",
     "output_type": "stream",
     "text": [
      "no masks found\n"
     ]
    },
    {
     "name": "stderr",
     "output_type": "stream",
     "text": [
      "0: 640x640 (no detections), 445.1ms\n",
      "Speed: 0.0ms preprocess, 445.1ms inference, 1.0ms postprocess per image at shape (1, 3, 640, 640)\n",
      "\n",
      "WARNING  torch.Tensor inputs should be normalized 0.0-1.0 but max value is 1715.125. Dividing input by 255.\n"
     ]
    },
    {
     "name": "stdout",
     "output_type": "stream",
     "text": [
      "no masks found\n"
     ]
    },
    {
     "name": "stderr",
     "output_type": "stream",
     "text": [
      "0: 640x640 (no detections), 424.6ms\n",
      "Speed: 0.0ms preprocess, 424.6ms inference, 1.0ms postprocess per image at shape (1, 3, 640, 640)\n",
      "\n",
      "WARNING  torch.Tensor inputs should be normalized 0.0-1.0 but max value is 1736.59375. Dividing input by 255.\n"
     ]
    },
    {
     "name": "stdout",
     "output_type": "stream",
     "text": [
      "no masks found\n"
     ]
    },
    {
     "name": "stderr",
     "output_type": "stream",
     "text": [
      "0: 640x640 (no detections), 406.1ms\n",
      "Speed: 0.0ms preprocess, 406.1ms inference, 0.0ms postprocess per image at shape (1, 3, 640, 640)\n",
      "\n",
      "WARNING  torch.Tensor inputs should be normalized 0.0-1.0 but max value is 1737.6875. Dividing input by 255.\n"
     ]
    },
    {
     "name": "stdout",
     "output_type": "stream",
     "text": [
      "no masks found\n"
     ]
    },
    {
     "name": "stderr",
     "output_type": "stream",
     "text": [
      "0: 640x640 (no detections), 444.1ms\n",
      "Speed: 0.0ms preprocess, 444.1ms inference, 1.0ms postprocess per image at shape (1, 3, 640, 640)\n",
      "\n",
      "WARNING  torch.Tensor inputs should be normalized 0.0-1.0 but max value is 1720.65625. Dividing input by 255.\n"
     ]
    },
    {
     "name": "stdout",
     "output_type": "stream",
     "text": [
      "no masks found\n"
     ]
    },
    {
     "name": "stderr",
     "output_type": "stream",
     "text": [
      "0: 640x640 (no detections), 450.3ms\n",
      "Speed: 0.0ms preprocess, 450.3ms inference, 1.0ms postprocess per image at shape (1, 3, 640, 640)\n",
      "\n",
      "WARNING  torch.Tensor inputs should be normalized 0.0-1.0 but max value is 1686.5625. Dividing input by 255.\n"
     ]
    },
    {
     "name": "stdout",
     "output_type": "stream",
     "text": [
      "no masks found\n"
     ]
    },
    {
     "name": "stderr",
     "output_type": "stream",
     "text": [
      "0: 640x640 (no detections), 413.1ms\n",
      "Speed: 0.0ms preprocess, 413.1ms inference, 0.0ms postprocess per image at shape (1, 3, 640, 640)\n",
      "\n",
      "WARNING  torch.Tensor inputs should be normalized 0.0-1.0 but max value is 1701.40625. Dividing input by 255.\n"
     ]
    },
    {
     "name": "stdout",
     "output_type": "stream",
     "text": [
      "no masks found\n"
     ]
    },
    {
     "name": "stderr",
     "output_type": "stream",
     "text": [
      "0: 640x640 (no detections), 451.5ms\n",
      "Speed: 0.0ms preprocess, 451.5ms inference, 1.0ms postprocess per image at shape (1, 3, 640, 640)\n",
      "\n",
      "WARNING  torch.Tensor inputs should be normalized 0.0-1.0 but max value is 1711.28125. Dividing input by 255.\n"
     ]
    },
    {
     "name": "stdout",
     "output_type": "stream",
     "text": [
      "no masks found\n"
     ]
    },
    {
     "name": "stderr",
     "output_type": "stream",
     "text": [
      "0: 640x640 (no detections), 449.6ms\n",
      "Speed: 0.0ms preprocess, 449.6ms inference, 0.0ms postprocess per image at shape (1, 3, 640, 640)\n",
      "\n",
      "WARNING  torch.Tensor inputs should be normalized 0.0-1.0 but max value is 1698.21875. Dividing input by 255.\n"
     ]
    },
    {
     "name": "stdout",
     "output_type": "stream",
     "text": [
      "no masks found\n"
     ]
    },
    {
     "name": "stderr",
     "output_type": "stream",
     "text": [
      "0: 640x640 (no detections), 441.1ms\n",
      "Speed: 0.0ms preprocess, 441.1ms inference, 0.0ms postprocess per image at shape (1, 3, 640, 640)\n",
      "\n",
      "WARNING  torch.Tensor inputs should be normalized 0.0-1.0 but max value is 1682.53125. Dividing input by 255.\n"
     ]
    },
    {
     "name": "stdout",
     "output_type": "stream",
     "text": [
      "no masks found\n"
     ]
    },
    {
     "name": "stderr",
     "output_type": "stream",
     "text": [
      "0: 640x640 (no detections), 412.1ms\n",
      "Speed: 0.0ms preprocess, 412.1ms inference, 1.0ms postprocess per image at shape (1, 3, 640, 640)\n",
      "\n",
      "WARNING  torch.Tensor inputs should be normalized 0.0-1.0 but max value is 1703.1875. Dividing input by 255.\n"
     ]
    },
    {
     "name": "stdout",
     "output_type": "stream",
     "text": [
      "no masks found\n"
     ]
    },
    {
     "name": "stderr",
     "output_type": "stream",
     "text": [
      "0: 640x640 (no detections), 453.1ms\n",
      "Speed: 0.0ms preprocess, 453.1ms inference, 0.0ms postprocess per image at shape (1, 3, 640, 640)\n",
      "\n",
      "WARNING  torch.Tensor inputs should be normalized 0.0-1.0 but max value is 1713.71875. Dividing input by 255.\n"
     ]
    },
    {
     "name": "stdout",
     "output_type": "stream",
     "text": [
      "no masks found\n"
     ]
    },
    {
     "name": "stderr",
     "output_type": "stream",
     "text": [
      "0: 640x640 (no detections), 452.2ms\n",
      "Speed: 0.0ms preprocess, 452.2ms inference, 1.0ms postprocess per image at shape (1, 3, 640, 640)\n",
      "\n",
      "WARNING  torch.Tensor inputs should be normalized 0.0-1.0 but max value is 1692.9375. Dividing input by 255.\n"
     ]
    },
    {
     "name": "stdout",
     "output_type": "stream",
     "text": [
      "no masks found\n"
     ]
    },
    {
     "name": "stderr",
     "output_type": "stream",
     "text": [
      "0: 640x640 (no detections), 404.1ms\n",
      "Speed: 0.0ms preprocess, 404.1ms inference, 0.0ms postprocess per image at shape (1, 3, 640, 640)\n",
      "\n",
      "WARNING  torch.Tensor inputs should be normalized 0.0-1.0 but max value is 1685.21875. Dividing input by 255.\n"
     ]
    },
    {
     "name": "stdout",
     "output_type": "stream",
     "text": [
      "no masks found\n"
     ]
    },
    {
     "name": "stderr",
     "output_type": "stream",
     "text": [
      "0: 640x640 (no detections), 461.4ms\n",
      "Speed: 0.0ms preprocess, 461.4ms inference, 0.0ms postprocess per image at shape (1, 3, 640, 640)\n",
      "\n",
      "WARNING  torch.Tensor inputs should be normalized 0.0-1.0 but max value is 1730.25. Dividing input by 255.\n"
     ]
    },
    {
     "name": "stdout",
     "output_type": "stream",
     "text": [
      "no masks found\n"
     ]
    },
    {
     "name": "stderr",
     "output_type": "stream",
     "text": [
      "0: 640x640 (no detections), 407.1ms\n",
      "Speed: 0.0ms preprocess, 407.1ms inference, 1.0ms postprocess per image at shape (1, 3, 640, 640)\n",
      "\n",
      "WARNING  torch.Tensor inputs should be normalized 0.0-1.0 but max value is 1863.28125. Dividing input by 255.\n"
     ]
    },
    {
     "name": "stdout",
     "output_type": "stream",
     "text": [
      "no masks found\n"
     ]
    },
    {
     "name": "stderr",
     "output_type": "stream",
     "text": [
      "0: 640x640 (no detections), 459.6ms\n",
      "Speed: 0.0ms preprocess, 459.6ms inference, 0.0ms postprocess per image at shape (1, 3, 640, 640)\n",
      "\n",
      "WARNING  torch.Tensor inputs should be normalized 0.0-1.0 but max value is 1804.21875. Dividing input by 255.\n"
     ]
    },
    {
     "name": "stdout",
     "output_type": "stream",
     "text": [
      "no masks found\n"
     ]
    },
    {
     "name": "stderr",
     "output_type": "stream",
     "text": [
      "0: 640x640 (no detections), 449.6ms\n",
      "Speed: 0.0ms preprocess, 449.6ms inference, 1.0ms postprocess per image at shape (1, 3, 640, 640)\n",
      "\n",
      "WARNING  torch.Tensor inputs should be normalized 0.0-1.0 but max value is 1764.09375. Dividing input by 255.\n"
     ]
    },
    {
     "name": "stdout",
     "output_type": "stream",
     "text": [
      "no masks found\n"
     ]
    },
    {
     "name": "stderr",
     "output_type": "stream",
     "text": [
      "0: 640x640 1 carotid-artery, 474.1ms\n",
      "Speed: 0.0ms preprocess, 474.1ms inference, 7.5ms postprocess per image at shape (1, 3, 640, 640)\n",
      "\n",
      "WARNING  torch.Tensor inputs should be normalized 0.0-1.0 but max value is 1783.65625. Dividing input by 255.\n",
      "0: 640x640 1 carotid-artery, 400.1ms\n",
      "Speed: 0.0ms preprocess, 400.1ms inference, 7.0ms postprocess per image at shape (1, 3, 640, 640)\n",
      "\n",
      "WARNING  torch.Tensor inputs should be normalized 0.0-1.0 but max value is 1778.21875. Dividing input by 255.\n",
      "0: 640x640 1 carotid-artery, 394.3ms\n",
      "Speed: 0.0ms preprocess, 394.3ms inference, 6.0ms postprocess per image at shape (1, 3, 640, 640)\n",
      "\n",
      "WARNING  torch.Tensor inputs should be normalized 0.0-1.0 but max value is 1817.875. Dividing input by 255.\n",
      "0: 640x640 1 carotid-artery, 432.1ms\n",
      "Speed: 0.0ms preprocess, 432.1ms inference, 8.0ms postprocess per image at shape (1, 3, 640, 640)\n",
      "\n",
      "WARNING  torch.Tensor inputs should be normalized 0.0-1.0 but max value is 1835.875. Dividing input by 255.\n",
      "0: 640x640 1 carotid-artery, 385.9ms\n",
      "Speed: 0.0ms preprocess, 385.9ms inference, 8.0ms postprocess per image at shape (1, 3, 640, 640)\n",
      "\n",
      "WARNING  torch.Tensor inputs should be normalized 0.0-1.0 but max value is 1818.8125. Dividing input by 255.\n",
      "0: 640x640 1 carotid-artery, 399.1ms\n",
      "Speed: 0.0ms preprocess, 399.1ms inference, 9.0ms postprocess per image at shape (1, 3, 640, 640)\n",
      "\n",
      "WARNING  torch.Tensor inputs should be normalized 0.0-1.0 but max value is 1785.09375. Dividing input by 255.\n",
      "0: 640x640 1 carotid-artery, 442.1ms\n",
      "Speed: 0.0ms preprocess, 442.1ms inference, 8.5ms postprocess per image at shape (1, 3, 640, 640)\n",
      "\n",
      "WARNING  torch.Tensor inputs should be normalized 0.0-1.0 but max value is 1745.5625. Dividing input by 255.\n",
      "0: 640x640 1 carotid-artery, 400.1ms\n",
      "Speed: 0.0ms preprocess, 400.1ms inference, 7.0ms postprocess per image at shape (1, 3, 640, 640)\n",
      "\n",
      "WARNING  torch.Tensor inputs should be normalized 0.0-1.0 but max value is 1751.6875. Dividing input by 255.\n",
      "0: 640x640 1 carotid-artery, 450.1ms\n",
      "Speed: 0.0ms preprocess, 450.1ms inference, 5.5ms postprocess per image at shape (1, 3, 640, 640)\n",
      "\n",
      "WARNING  torch.Tensor inputs should be normalized 0.0-1.0 but max value is 1746.34375. Dividing input by 255.\n",
      "0: 640x640 1 carotid-artery, 394.1ms\n",
      "Speed: 0.0ms preprocess, 394.1ms inference, 8.0ms postprocess per image at shape (1, 3, 640, 640)\n",
      "\n",
      "WARNING  torch.Tensor inputs should be normalized 0.0-1.0 but max value is 1842.65625. Dividing input by 255.\n",
      "0: 640x640 1 carotid-artery, 447.1ms\n",
      "Speed: 0.0ms preprocess, 447.1ms inference, 9.0ms postprocess per image at shape (1, 3, 640, 640)\n",
      "\n",
      "WARNING  torch.Tensor inputs should be normalized 0.0-1.0 but max value is 1871.3125. Dividing input by 255.\n",
      "0: 640x640 1 carotid-artery, 392.1ms\n",
      "Speed: 0.0ms preprocess, 392.1ms inference, 7.0ms postprocess per image at shape (1, 3, 640, 640)\n",
      "\n",
      "WARNING  torch.Tensor inputs should be normalized 0.0-1.0 but max value is 1875.0625. Dividing input by 255.\n",
      "0: 640x640 1 carotid-artery, 445.1ms\n",
      "Speed: 0.0ms preprocess, 445.1ms inference, 9.0ms postprocess per image at shape (1, 3, 640, 640)\n",
      "\n",
      "WARNING  torch.Tensor inputs should be normalized 0.0-1.0 but max value is 1852.28125. Dividing input by 255.\n",
      "0: 640x640 1 carotid-artery, 402.1ms\n",
      "Speed: 0.0ms preprocess, 402.1ms inference, 8.0ms postprocess per image at shape (1, 3, 640, 640)\n",
      "\n",
      "WARNING  torch.Tensor inputs should be normalized 0.0-1.0 but max value is 1820.15625. Dividing input by 255.\n",
      "0: 640x640 (no detections), 459.1ms\n",
      "Speed: 0.0ms preprocess, 459.1ms inference, 1.0ms postprocess per image at shape (1, 3, 640, 640)\n",
      "\n",
      "WARNING  torch.Tensor inputs should be normalized 0.0-1.0 but max value is 1802.75. Dividing input by 255.\n"
     ]
    },
    {
     "name": "stdout",
     "output_type": "stream",
     "text": [
      "no masks found\n"
     ]
    },
    {
     "name": "stderr",
     "output_type": "stream",
     "text": [
      "0: 640x640 (no detections), 407.7ms\n",
      "Speed: 0.0ms preprocess, 407.7ms inference, 1.0ms postprocess per image at shape (1, 3, 640, 640)\n",
      "\n",
      "WARNING  torch.Tensor inputs should be normalized 0.0-1.0 but max value is 1788.4375. Dividing input by 255.\n"
     ]
    },
    {
     "name": "stdout",
     "output_type": "stream",
     "text": [
      "no masks found\n"
     ]
    },
    {
     "name": "stderr",
     "output_type": "stream",
     "text": [
      "0: 640x640 (no detections), 467.1ms\n",
      "Speed: 0.0ms preprocess, 467.1ms inference, 1.0ms postprocess per image at shape (1, 3, 640, 640)\n",
      "\n",
      "WARNING  torch.Tensor inputs should be normalized 0.0-1.0 but max value is 1790.53125. Dividing input by 255.\n"
     ]
    },
    {
     "name": "stdout",
     "output_type": "stream",
     "text": [
      "no masks found\n"
     ]
    },
    {
     "name": "stderr",
     "output_type": "stream",
     "text": [
      "0: 640x640 (no detections), 451.7ms\n",
      "Speed: 0.0ms preprocess, 451.7ms inference, 1.0ms postprocess per image at shape (1, 3, 640, 640)\n",
      "\n",
      "WARNING  torch.Tensor inputs should be normalized 0.0-1.0 but max value is 1779.3125. Dividing input by 255.\n"
     ]
    },
    {
     "name": "stdout",
     "output_type": "stream",
     "text": [
      "no masks found\n"
     ]
    },
    {
     "name": "stderr",
     "output_type": "stream",
     "text": [
      "0: 640x640 (no detections), 460.6ms\n",
      "Speed: 0.0ms preprocess, 460.6ms inference, 0.0ms postprocess per image at shape (1, 3, 640, 640)\n",
      "\n",
      "WARNING  torch.Tensor inputs should be normalized 0.0-1.0 but max value is 1776.46875. Dividing input by 255.\n"
     ]
    },
    {
     "name": "stdout",
     "output_type": "stream",
     "text": [
      "no masks found\n"
     ]
    },
    {
     "name": "stderr",
     "output_type": "stream",
     "text": [
      "0: 640x640 (no detections), 417.0ms\n",
      "Speed: 0.0ms preprocess, 417.0ms inference, 1.0ms postprocess per image at shape (1, 3, 640, 640)\n",
      "\n",
      "WARNING  torch.Tensor inputs should be normalized 0.0-1.0 but max value is 1683.90625. Dividing input by 255.\n"
     ]
    },
    {
     "name": "stdout",
     "output_type": "stream",
     "text": [
      "no masks found\n"
     ]
    },
    {
     "name": "stderr",
     "output_type": "stream",
     "text": [
      "0: 640x640 (no detections), 461.1ms\n",
      "Speed: 0.0ms preprocess, 461.1ms inference, 1.0ms postprocess per image at shape (1, 3, 640, 640)\n",
      "\n",
      "WARNING  torch.Tensor inputs should be normalized 0.0-1.0 but max value is 1652.0625. Dividing input by 255.\n"
     ]
    },
    {
     "name": "stdout",
     "output_type": "stream",
     "text": [
      "no masks found\n"
     ]
    },
    {
     "name": "stderr",
     "output_type": "stream",
     "text": [
      "0: 640x640 (no detections), 455.6ms\n",
      "Speed: 0.0ms preprocess, 455.6ms inference, 0.0ms postprocess per image at shape (1, 3, 640, 640)\n",
      "\n",
      "WARNING  torch.Tensor inputs should be normalized 0.0-1.0 but max value is 1625.15625. Dividing input by 255.\n"
     ]
    },
    {
     "name": "stdout",
     "output_type": "stream",
     "text": [
      "no masks found\n"
     ]
    },
    {
     "name": "stderr",
     "output_type": "stream",
     "text": [
      "0: 640x640 (no detections), 450.1ms\n",
      "Speed: 0.0ms preprocess, 450.1ms inference, 0.0ms postprocess per image at shape (1, 3, 640, 640)\n",
      "\n",
      "WARNING  torch.Tensor inputs should be normalized 0.0-1.0 but max value is 1703.46875. Dividing input by 255.\n"
     ]
    },
    {
     "name": "stdout",
     "output_type": "stream",
     "text": [
      "no masks found\n"
     ]
    },
    {
     "name": "stderr",
     "output_type": "stream",
     "text": [
      "0: 640x640 (no detections), 412.6ms\n",
      "Speed: 0.0ms preprocess, 412.6ms inference, 1.0ms postprocess per image at shape (1, 3, 640, 640)\n",
      "\n",
      "WARNING  torch.Tensor inputs should be normalized 0.0-1.0 but max value is 1729.0625. Dividing input by 255.\n"
     ]
    },
    {
     "name": "stdout",
     "output_type": "stream",
     "text": [
      "no masks found\n"
     ]
    },
    {
     "name": "stderr",
     "output_type": "stream",
     "text": [
      "0: 640x640 (no detections), 458.1ms\n",
      "Speed: 0.0ms preprocess, 458.1ms inference, 1.0ms postprocess per image at shape (1, 3, 640, 640)\n",
      "\n",
      "WARNING  torch.Tensor inputs should be normalized 0.0-1.0 but max value is 1672.8125. Dividing input by 255.\n"
     ]
    },
    {
     "name": "stdout",
     "output_type": "stream",
     "text": [
      "no masks found\n"
     ]
    },
    {
     "name": "stderr",
     "output_type": "stream",
     "text": [
      "0: 640x640 (no detections), 451.5ms\n",
      "Speed: 0.0ms preprocess, 451.5ms inference, 0.0ms postprocess per image at shape (1, 3, 640, 640)\n",
      "\n",
      "WARNING  torch.Tensor inputs should be normalized 0.0-1.0 but max value is 1647.9375. Dividing input by 255.\n"
     ]
    },
    {
     "name": "stdout",
     "output_type": "stream",
     "text": [
      "no masks found\n"
     ]
    },
    {
     "name": "stderr",
     "output_type": "stream",
     "text": [
      "0: 640x640 (no detections), 425.1ms\n",
      "Speed: 0.0ms preprocess, 425.1ms inference, 0.0ms postprocess per image at shape (1, 3, 640, 640)\n",
      "\n",
      "WARNING  torch.Tensor inputs should be normalized 0.0-1.0 but max value is 1645.40625. Dividing input by 255.\n"
     ]
    },
    {
     "name": "stdout",
     "output_type": "stream",
     "text": [
      "no masks found\n"
     ]
    },
    {
     "name": "stderr",
     "output_type": "stream",
     "text": [
      "0: 640x640 (no detections), 527.6ms\n",
      "Speed: 0.0ms preprocess, 527.6ms inference, 0.0ms postprocess per image at shape (1, 3, 640, 640)\n",
      "\n",
      "WARNING  torch.Tensor inputs should be normalized 0.0-1.0 but max value is 1627.96875. Dividing input by 255.\n"
     ]
    },
    {
     "name": "stdout",
     "output_type": "stream",
     "text": [
      "no masks found\n"
     ]
    },
    {
     "name": "stderr",
     "output_type": "stream",
     "text": [
      "0: 640x640 1 carotid-artery, 461.6ms\n",
      "Speed: 0.0ms preprocess, 461.6ms inference, 10.0ms postprocess per image at shape (1, 3, 640, 640)\n",
      "\n",
      "WARNING  torch.Tensor inputs should be normalized 0.0-1.0 but max value is 1572.71875. Dividing input by 255.\n",
      "0: 640x640 1 carotid-artery, 539.6ms\n",
      "Speed: 0.0ms preprocess, 539.6ms inference, 9.5ms postprocess per image at shape (1, 3, 640, 640)\n",
      "\n",
      "WARNING  torch.Tensor inputs should be normalized 0.0-1.0 but max value is 1602.5. Dividing input by 255.\n",
      "0: 640x640 (no detections), 459.1ms\n",
      "Speed: 0.0ms preprocess, 459.1ms inference, 1.0ms postprocess per image at shape (1, 3, 640, 640)\n",
      "\n",
      "WARNING  torch.Tensor inputs should be normalized 0.0-1.0 but max value is 1596.875. Dividing input by 255.\n"
     ]
    },
    {
     "name": "stdout",
     "output_type": "stream",
     "text": [
      "no masks found\n"
     ]
    },
    {
     "name": "stderr",
     "output_type": "stream",
     "text": [
      "0: 640x640 (no detections), 466.6ms\n",
      "Speed: 0.0ms preprocess, 466.6ms inference, 0.0ms postprocess per image at shape (1, 3, 640, 640)\n",
      "\n",
      "WARNING  torch.Tensor inputs should be normalized 0.0-1.0 but max value is 1602.4375. Dividing input by 255.\n"
     ]
    },
    {
     "name": "stdout",
     "output_type": "stream",
     "text": [
      "no masks found\n"
     ]
    },
    {
     "name": "stderr",
     "output_type": "stream",
     "text": [
      "0: 640x640 (no detections), 545.8ms\n",
      "Speed: 0.0ms preprocess, 545.8ms inference, 0.0ms postprocess per image at shape (1, 3, 640, 640)\n",
      "\n",
      "WARNING  torch.Tensor inputs should be normalized 0.0-1.0 but max value is 1595.15625. Dividing input by 255.\n"
     ]
    },
    {
     "name": "stdout",
     "output_type": "stream",
     "text": [
      "no masks found\n"
     ]
    },
    {
     "name": "stderr",
     "output_type": "stream",
     "text": [
      "0: 640x640 (no detections), 509.3ms\n",
      "Speed: 0.0ms preprocess, 509.3ms inference, 0.0ms postprocess per image at shape (1, 3, 640, 640)\n",
      "\n",
      "WARNING  torch.Tensor inputs should be normalized 0.0-1.0 but max value is 1554.5625. Dividing input by 255.\n"
     ]
    },
    {
     "name": "stdout",
     "output_type": "stream",
     "text": [
      "no masks found\n"
     ]
    },
    {
     "name": "stderr",
     "output_type": "stream",
     "text": [
      "0: 640x640 1 carotid-artery, 534.0ms\n",
      "Speed: 0.0ms preprocess, 534.0ms inference, 10.0ms postprocess per image at shape (1, 3, 640, 640)\n",
      "\n",
      "WARNING  torch.Tensor inputs should be normalized 0.0-1.0 but max value is 1454.90625. Dividing input by 255.\n",
      "0: 640x640 1 carotid-artery, 477.7ms\n",
      "Speed: 0.0ms preprocess, 477.7ms inference, 10.0ms postprocess per image at shape (1, 3, 640, 640)\n",
      "\n",
      "WARNING  torch.Tensor inputs should be normalized 0.0-1.0 but max value is 1523.5625. Dividing input by 255.\n",
      "0: 640x640 1 carotid-artery, 449.7ms\n",
      "Speed: 0.0ms preprocess, 449.7ms inference, 9.0ms postprocess per image at shape (1, 3, 640, 640)\n",
      "\n",
      "WARNING  torch.Tensor inputs should be normalized 0.0-1.0 but max value is 1535.375. Dividing input by 255.\n",
      "0: 640x640 1 carotid-artery, 501.6ms\n",
      "Speed: 0.0ms preprocess, 501.6ms inference, 7.0ms postprocess per image at shape (1, 3, 640, 640)\n",
      "\n",
      "WARNING  torch.Tensor inputs should be normalized 0.0-1.0 but max value is 1532.65625. Dividing input by 255.\n",
      "0: 640x640 1 carotid-artery, 524.7ms\n",
      "Speed: 0.0ms preprocess, 524.7ms inference, 7.0ms postprocess per image at shape (1, 3, 640, 640)\n",
      "\n",
      "WARNING  torch.Tensor inputs should be normalized 0.0-1.0 but max value is 1633.25. Dividing input by 255.\n",
      "0: 640x640 1 carotid-artery, 470.7ms\n",
      "Speed: 0.0ms preprocess, 470.7ms inference, 8.0ms postprocess per image at shape (1, 3, 640, 640)\n",
      "\n",
      "WARNING  torch.Tensor inputs should be normalized 0.0-1.0 but max value is 1543.6875. Dividing input by 255.\n",
      "0: 640x640 1 carotid-artery, 496.6ms\n",
      "Speed: 0.0ms preprocess, 496.6ms inference, 10.0ms postprocess per image at shape (1, 3, 640, 640)\n",
      "\n",
      "WARNING  torch.Tensor inputs should be normalized 0.0-1.0 but max value is 1558.46875. Dividing input by 255.\n",
      "0: 640x640 1 carotid-artery, 475.7ms\n",
      "Speed: 0.0ms preprocess, 475.7ms inference, 10.0ms postprocess per image at shape (1, 3, 640, 640)\n",
      "\n",
      "WARNING  torch.Tensor inputs should be normalized 0.0-1.0 but max value is 1612.625. Dividing input by 255.\n",
      "0: 640x640 1 carotid-artery, 443.7ms\n",
      "Speed: 0.0ms preprocess, 443.7ms inference, 11.0ms postprocess per image at shape (1, 3, 640, 640)\n",
      "\n",
      "WARNING  torch.Tensor inputs should be normalized 0.0-1.0 but max value is 1618.125. Dividing input by 255.\n",
      "0: 640x640 2 carotid-arterys, 507.6ms\n",
      "Speed: 0.0ms preprocess, 507.6ms inference, 6.0ms postprocess per image at shape (1, 3, 640, 640)\n",
      "\n",
      "WARNING  torch.Tensor inputs should be normalized 0.0-1.0 but max value is 1645.28125. Dividing input by 255.\n",
      "0: 640x640 1 carotid-artery, 449.3ms\n",
      "Speed: 0.0ms preprocess, 449.3ms inference, 10.0ms postprocess per image at shape (1, 3, 640, 640)\n",
      "\n",
      "WARNING  torch.Tensor inputs should be normalized 0.0-1.0 but max value is 1554.65625. Dividing input by 255.\n",
      "0: 640x640 (no detections), 500.1ms\n",
      "Speed: 0.0ms preprocess, 500.1ms inference, 0.0ms postprocess per image at shape (1, 3, 640, 640)\n",
      "\n",
      "WARNING  torch.Tensor inputs should be normalized 0.0-1.0 but max value is 1543.34375. Dividing input by 255.\n"
     ]
    },
    {
     "name": "stdout",
     "output_type": "stream",
     "text": [
      "no masks found\n"
     ]
    },
    {
     "name": "stderr",
     "output_type": "stream",
     "text": [
      "0: 640x640 (no detections), 528.8ms\n",
      "Speed: 0.0ms preprocess, 528.8ms inference, 1.0ms postprocess per image at shape (1, 3, 640, 640)\n",
      "\n",
      "WARNING  torch.Tensor inputs should be normalized 0.0-1.0 but max value is 1542.5. Dividing input by 255.\n"
     ]
    },
    {
     "name": "stdout",
     "output_type": "stream",
     "text": [
      "no masks found\n"
     ]
    },
    {
     "name": "stderr",
     "output_type": "stream",
     "text": [
      "0: 640x640 1 carotid-artery, 489.6ms\n",
      "Speed: 0.0ms preprocess, 489.6ms inference, 8.0ms postprocess per image at shape (1, 3, 640, 640)\n",
      "\n",
      "WARNING  torch.Tensor inputs should be normalized 0.0-1.0 but max value is 1643.46875. Dividing input by 255.\n",
      "0: 640x640 1 carotid-artery, 518.5ms\n",
      "Speed: 0.0ms preprocess, 518.5ms inference, 8.0ms postprocess per image at shape (1, 3, 640, 640)\n",
      "\n",
      "WARNING  torch.Tensor inputs should be normalized 0.0-1.0 but max value is 3071.0. Dividing input by 255.\n",
      "0: 640x640 (no detections), 489.1ms\n",
      "Speed: 0.0ms preprocess, 489.1ms inference, 0.0ms postprocess per image at shape (1, 3, 640, 640)\n",
      "\n",
      "WARNING  torch.Tensor inputs should be normalized 0.0-1.0 but max value is 3063.8125. Dividing input by 255.\n"
     ]
    },
    {
     "name": "stdout",
     "output_type": "stream",
     "text": [
      "no masks found\n"
     ]
    },
    {
     "name": "stderr",
     "output_type": "stream",
     "text": [
      "0: 640x640 1 carotid-artery, 499.6ms\n",
      "Speed: 0.0ms preprocess, 499.6ms inference, 10.0ms postprocess per image at shape (1, 3, 640, 640)\n",
      "\n",
      "WARNING  torch.Tensor inputs should be normalized 0.0-1.0 but max value is 3071.0. Dividing input by 255.\n",
      "0: 640x640 1 carotid-artery, 471.6ms\n",
      "Speed: 1.0ms preprocess, 471.6ms inference, 9.0ms postprocess per image at shape (1, 3, 640, 640)\n",
      "\n",
      "WARNING  torch.Tensor inputs should be normalized 0.0-1.0 but max value is 3071.0. Dividing input by 255.\n",
      "0: 640x640 1 carotid-artery, 658.6ms\n",
      "Speed: 0.0ms preprocess, 658.6ms inference, 12.0ms postprocess per image at shape (1, 3, 640, 640)\n",
      "\n",
      "WARNING  torch.Tensor inputs should be normalized 0.0-1.0 but max value is 3071.0. Dividing input by 255.\n",
      "0: 640x640 (no detections), 491.6ms\n",
      "Speed: 0.0ms preprocess, 491.6ms inference, 0.0ms postprocess per image at shape (1, 3, 640, 640)\n",
      "\n",
      "WARNING  torch.Tensor inputs should be normalized 0.0-1.0 but max value is 3071.0. Dividing input by 255.\n"
     ]
    },
    {
     "name": "stdout",
     "output_type": "stream",
     "text": [
      "no masks found\n"
     ]
    },
    {
     "name": "stderr",
     "output_type": "stream",
     "text": [
      "0: 640x640 (no detections), 519.6ms\n",
      "Speed: 0.0ms preprocess, 519.6ms inference, 1.0ms postprocess per image at shape (1, 3, 640, 640)\n",
      "\n",
      "WARNING  torch.Tensor inputs should be normalized 0.0-1.0 but max value is 3071.0. Dividing input by 255.\n"
     ]
    },
    {
     "name": "stdout",
     "output_type": "stream",
     "text": [
      "no masks found\n"
     ]
    },
    {
     "name": "stderr",
     "output_type": "stream",
     "text": [
      "0: 640x640 (no detections), 536.2ms\n",
      "Speed: 0.0ms preprocess, 536.2ms inference, 0.0ms postprocess per image at shape (1, 3, 640, 640)\n",
      "\n",
      "WARNING  torch.Tensor inputs should be normalized 0.0-1.0 but max value is 3070.96875. Dividing input by 255.\n"
     ]
    },
    {
     "name": "stdout",
     "output_type": "stream",
     "text": [
      "no masks found\n"
     ]
    },
    {
     "name": "stderr",
     "output_type": "stream",
     "text": [
      "0: 640x640 (no detections), 505.6ms\n",
      "Speed: 1.0ms preprocess, 505.6ms inference, 1.0ms postprocess per image at shape (1, 3, 640, 640)\n",
      "\n",
      "WARNING  torch.Tensor inputs should be normalized 0.0-1.0 but max value is 3071.0. Dividing input by 255.\n"
     ]
    },
    {
     "name": "stdout",
     "output_type": "stream",
     "text": [
      "no masks found\n"
     ]
    },
    {
     "name": "stderr",
     "output_type": "stream",
     "text": [
      "0: 640x640 (no detections), 524.2ms\n",
      "Speed: 0.0ms preprocess, 524.2ms inference, 1.0ms postprocess per image at shape (1, 3, 640, 640)\n",
      "\n",
      "WARNING  torch.Tensor inputs should be normalized 0.0-1.0 but max value is 2588.75. Dividing input by 255.\n"
     ]
    },
    {
     "name": "stdout",
     "output_type": "stream",
     "text": [
      "no masks found\n"
     ]
    },
    {
     "name": "stderr",
     "output_type": "stream",
     "text": [
      "0: 640x640 (no detections), 544.7ms\n",
      "Speed: 0.0ms preprocess, 544.7ms inference, 0.0ms postprocess per image at shape (1, 3, 640, 640)\n",
      "\n",
      "WARNING  torch.Tensor inputs should be normalized 0.0-1.0 but max value is 1902.78125. Dividing input by 255.\n"
     ]
    },
    {
     "name": "stdout",
     "output_type": "stream",
     "text": [
      "no masks found\n"
     ]
    },
    {
     "name": "stderr",
     "output_type": "stream",
     "text": [
      "0: 640x640 (no detections), 474.6ms\n",
      "Speed: 0.0ms preprocess, 474.6ms inference, 1.0ms postprocess per image at shape (1, 3, 640, 640)\n",
      "\n",
      "WARNING  torch.Tensor inputs should be normalized 0.0-1.0 but max value is 1930.375. Dividing input by 255.\n"
     ]
    },
    {
     "name": "stdout",
     "output_type": "stream",
     "text": [
      "no masks found\n"
     ]
    },
    {
     "name": "stderr",
     "output_type": "stream",
     "text": [
      "0: 640x640 (no detections), 535.8ms\n",
      "Speed: 0.0ms preprocess, 535.8ms inference, 0.0ms postprocess per image at shape (1, 3, 640, 640)\n",
      "\n",
      "WARNING  torch.Tensor inputs should be normalized 0.0-1.0 but max value is 1883.65625. Dividing input by 255.\n"
     ]
    },
    {
     "name": "stdout",
     "output_type": "stream",
     "text": [
      "no masks found\n"
     ]
    },
    {
     "name": "stderr",
     "output_type": "stream",
     "text": [
      "0: 640x640 (no detections), 547.6ms\n",
      "Speed: 0.0ms preprocess, 547.6ms inference, 0.0ms postprocess per image at shape (1, 3, 640, 640)\n",
      "\n",
      "WARNING  torch.Tensor inputs should be normalized 0.0-1.0 but max value is 1885.625. Dividing input by 255.\n"
     ]
    },
    {
     "name": "stdout",
     "output_type": "stream",
     "text": [
      "no masks found\n"
     ]
    },
    {
     "name": "stderr",
     "output_type": "stream",
     "text": [
      "0: 640x640 (no detections), 506.6ms\n",
      "Speed: 0.0ms preprocess, 506.6ms inference, 0.0ms postprocess per image at shape (1, 3, 640, 640)\n",
      "\n",
      "WARNING  torch.Tensor inputs should be normalized 0.0-1.0 but max value is 1905.28125. Dividing input by 255.\n"
     ]
    },
    {
     "name": "stdout",
     "output_type": "stream",
     "text": [
      "no masks found\n"
     ]
    },
    {
     "name": "stderr",
     "output_type": "stream",
     "text": [
      "0: 640x640 (no detections), 469.1ms\n",
      "Speed: 0.0ms preprocess, 469.1ms inference, 0.0ms postprocess per image at shape (1, 3, 640, 640)\n",
      "\n",
      "WARNING  torch.Tensor inputs should be normalized 0.0-1.0 but max value is 1947.75. Dividing input by 255.\n"
     ]
    },
    {
     "name": "stdout",
     "output_type": "stream",
     "text": [
      "no masks found\n"
     ]
    },
    {
     "name": "stderr",
     "output_type": "stream",
     "text": [
      "0: 640x640 (no detections), 537.6ms\n",
      "Speed: 0.0ms preprocess, 537.6ms inference, 1.0ms postprocess per image at shape (1, 3, 640, 640)\n",
      "\n",
      "WARNING  torch.Tensor inputs should be normalized 0.0-1.0 but max value is 1914.375. Dividing input by 255.\n"
     ]
    },
    {
     "name": "stdout",
     "output_type": "stream",
     "text": [
      "no masks found\n"
     ]
    },
    {
     "name": "stderr",
     "output_type": "stream",
     "text": [
      "0: 640x640 (no detections), 490.6ms\n",
      "Speed: 0.0ms preprocess, 490.6ms inference, 1.0ms postprocess per image at shape (1, 3, 640, 640)\n",
      "\n",
      "WARNING  torch.Tensor inputs should be normalized 0.0-1.0 but max value is 1860.75. Dividing input by 255.\n"
     ]
    },
    {
     "name": "stdout",
     "output_type": "stream",
     "text": [
      "no masks found\n"
     ]
    },
    {
     "name": "stderr",
     "output_type": "stream",
     "text": [
      "0: 640x640 (no detections), 530.8ms\n",
      "Speed: 0.0ms preprocess, 530.8ms inference, 1.0ms postprocess per image at shape (1, 3, 640, 640)\n",
      "\n",
      "WARNING  torch.Tensor inputs should be normalized 0.0-1.0 but max value is 1855.03125. Dividing input by 255.\n"
     ]
    },
    {
     "name": "stdout",
     "output_type": "stream",
     "text": [
      "no masks found\n"
     ]
    },
    {
     "name": "stderr",
     "output_type": "stream",
     "text": [
      "0: 640x640 (no detections), 483.6ms\n",
      "Speed: 0.0ms preprocess, 483.6ms inference, 1.0ms postprocess per image at shape (1, 3, 640, 640)\n",
      "\n",
      "WARNING  torch.Tensor inputs should be normalized 0.0-1.0 but max value is 1860.4375. Dividing input by 255.\n"
     ]
    },
    {
     "name": "stdout",
     "output_type": "stream",
     "text": [
      "no masks found\n"
     ]
    },
    {
     "name": "stderr",
     "output_type": "stream",
     "text": [
      "0: 640x640 (no detections), 532.3ms\n",
      "Speed: 0.0ms preprocess, 532.3ms inference, 1.0ms postprocess per image at shape (1, 3, 640, 640)\n",
      "\n",
      "WARNING  torch.Tensor inputs should be normalized 0.0-1.0 but max value is 1783.3125. Dividing input by 255.\n"
     ]
    },
    {
     "name": "stdout",
     "output_type": "stream",
     "text": [
      "no masks found\n"
     ]
    },
    {
     "name": "stderr",
     "output_type": "stream",
     "text": [
      "0: 640x640 (no detections), 468.6ms\n",
      "Speed: 0.0ms preprocess, 468.6ms inference, 1.0ms postprocess per image at shape (1, 3, 640, 640)\n",
      "\n",
      "WARNING  torch.Tensor inputs should be normalized 0.0-1.0 but max value is 1733.8125. Dividing input by 255.\n"
     ]
    },
    {
     "name": "stdout",
     "output_type": "stream",
     "text": [
      "no masks found\n"
     ]
    },
    {
     "name": "stderr",
     "output_type": "stream",
     "text": [
      "0: 640x640 1 carotid-artery, 534.2ms\n",
      "Speed: 0.0ms preprocess, 534.2ms inference, 6.0ms postprocess per image at shape (1, 3, 640, 640)\n",
      "\n",
      "WARNING  torch.Tensor inputs should be normalized 0.0-1.0 but max value is 1725.75. Dividing input by 255.\n",
      "0: 640x640 1 carotid-artery, 451.1ms\n",
      "Speed: 0.0ms preprocess, 451.1ms inference, 9.0ms postprocess per image at shape (1, 3, 640, 640)\n",
      "\n",
      "WARNING  torch.Tensor inputs should be normalized 0.0-1.0 but max value is 1707.375. Dividing input by 255.\n",
      "0: 640x640 1 carotid-artery, 456.1ms\n",
      "Speed: 0.0ms preprocess, 456.1ms inference, 10.0ms postprocess per image at shape (1, 3, 640, 640)\n",
      "\n",
      "WARNING  torch.Tensor inputs should be normalized 0.0-1.0 but max value is 2741.5625. Dividing input by 255.\n",
      "0: 640x640 1 carotid-artery, 501.6ms\n",
      "Speed: 0.0ms preprocess, 501.6ms inference, 7.0ms postprocess per image at shape (1, 3, 640, 640)\n",
      "\n",
      "WARNING  torch.Tensor inputs should be normalized 0.0-1.0 but max value is 3071.0. Dividing input by 255.\n",
      "0: 640x640 1 carotid-artery, 429.7ms\n",
      "Speed: 0.0ms preprocess, 429.7ms inference, 10.0ms postprocess per image at shape (1, 3, 640, 640)\n",
      "\n",
      "WARNING  torch.Tensor inputs should be normalized 0.0-1.0 but max value is 2790.40625. Dividing input by 255.\n",
      "0: 640x640 (no detections), 435.3ms\n",
      "Speed: 0.0ms preprocess, 435.3ms inference, 0.0ms postprocess per image at shape (1, 3, 640, 640)\n",
      "\n",
      "WARNING  torch.Tensor inputs should be normalized 0.0-1.0 but max value is 2646.25. Dividing input by 255.\n"
     ]
    },
    {
     "name": "stdout",
     "output_type": "stream",
     "text": [
      "no masks found\n"
     ]
    },
    {
     "name": "stderr",
     "output_type": "stream",
     "text": [
      "0: 640x640 (no detections), 524.7ms\n",
      "Speed: 0.0ms preprocess, 524.7ms inference, 1.0ms postprocess per image at shape (1, 3, 640, 640)\n",
      "\n",
      "WARNING  torch.Tensor inputs should be normalized 0.0-1.0 but max value is 1648.1875. Dividing input by 255.\n"
     ]
    },
    {
     "name": "stdout",
     "output_type": "stream",
     "text": [
      "no masks found\n"
     ]
    },
    {
     "name": "stderr",
     "output_type": "stream",
     "text": [
      "0: 640x640 (no detections), 515.9ms\n",
      "Speed: 0.0ms preprocess, 515.9ms inference, 1.0ms postprocess per image at shape (1, 3, 640, 640)\n",
      "\n",
      "WARNING  torch.Tensor inputs should be normalized 0.0-1.0 but max value is 1601.0. Dividing input by 255.\n"
     ]
    },
    {
     "name": "stdout",
     "output_type": "stream",
     "text": [
      "no masks found\n"
     ]
    },
    {
     "name": "stderr",
     "output_type": "stream",
     "text": [
      "0: 640x640 (no detections), 488.1ms\n",
      "Speed: 0.0ms preprocess, 488.1ms inference, 1.0ms postprocess per image at shape (1, 3, 640, 640)\n",
      "\n",
      "WARNING  torch.Tensor inputs should be normalized 0.0-1.0 but max value is 1668.75. Dividing input by 255.\n"
     ]
    },
    {
     "name": "stdout",
     "output_type": "stream",
     "text": [
      "no masks found\n"
     ]
    },
    {
     "name": "stderr",
     "output_type": "stream",
     "text": [
      "0: 640x640 (no detections), 530.6ms\n",
      "Speed: 0.0ms preprocess, 530.6ms inference, 1.0ms postprocess per image at shape (1, 3, 640, 640)\n",
      "\n",
      "WARNING  torch.Tensor inputs should be normalized 0.0-1.0 but max value is 1929.0625. Dividing input by 255.\n"
     ]
    },
    {
     "name": "stdout",
     "output_type": "stream",
     "text": [
      "no masks found\n"
     ]
    },
    {
     "name": "stderr",
     "output_type": "stream",
     "text": [
      "0: 640x640 1 carotid-artery, 527.2ms\n",
      "Speed: 0.0ms preprocess, 527.2ms inference, 10.0ms postprocess per image at shape (1, 3, 640, 640)\n",
      "\n",
      "WARNING  torch.Tensor inputs should be normalized 0.0-1.0 but max value is 1586.53125. Dividing input by 255.\n",
      "0: 640x640 (no detections), 452.0ms\n",
      "Speed: 0.0ms preprocess, 452.0ms inference, 0.0ms postprocess per image at shape (1, 3, 640, 640)\n",
      "\n",
      "WARNING  torch.Tensor inputs should be normalized 0.0-1.0 but max value is 1595.84375. Dividing input by 255.\n"
     ]
    },
    {
     "name": "stdout",
     "output_type": "stream",
     "text": [
      "no masks found\n"
     ]
    },
    {
     "name": "stderr",
     "output_type": "stream",
     "text": [
      "0: 640x640 (no detections), 514.6ms\n",
      "Speed: 0.0ms preprocess, 514.6ms inference, 1.0ms postprocess per image at shape (1, 3, 640, 640)\n",
      "\n",
      "WARNING  torch.Tensor inputs should be normalized 0.0-1.0 but max value is 1686.625. Dividing input by 255.\n"
     ]
    },
    {
     "name": "stdout",
     "output_type": "stream",
     "text": [
      "no masks found\n"
     ]
    },
    {
     "name": "stderr",
     "output_type": "stream",
     "text": [
      "0: 640x640 (no detections), 522.6ms\n",
      "Speed: 0.0ms preprocess, 522.6ms inference, 1.0ms postprocess per image at shape (1, 3, 640, 640)\n",
      "\n",
      "WARNING  torch.Tensor inputs should be normalized 0.0-1.0 but max value is 1603.46875. Dividing input by 255.\n"
     ]
    },
    {
     "name": "stdout",
     "output_type": "stream",
     "text": [
      "no masks found\n"
     ]
    },
    {
     "name": "stderr",
     "output_type": "stream",
     "text": [
      "0: 640x640 1 carotid-artery, 526.1ms\n",
      "Speed: 0.0ms preprocess, 526.1ms inference, 11.0ms postprocess per image at shape (1, 3, 640, 640)\n",
      "\n",
      "WARNING  torch.Tensor inputs should be normalized 0.0-1.0 but max value is 1837.25. Dividing input by 255.\n",
      "0: 640x640 (no detections), 435.1ms\n",
      "Speed: 0.0ms preprocess, 435.1ms inference, 1.0ms postprocess per image at shape (1, 3, 640, 640)\n",
      "\n",
      "WARNING  torch.Tensor inputs should be normalized 0.0-1.0 but max value is 2047.375. Dividing input by 255.\n"
     ]
    },
    {
     "name": "stdout",
     "output_type": "stream",
     "text": [
      "no masks found\n"
     ]
    },
    {
     "name": "stderr",
     "output_type": "stream",
     "text": [
      "0: 640x640 (no detections), 470.4ms\n",
      "Speed: 0.0ms preprocess, 470.4ms inference, 1.0ms postprocess per image at shape (1, 3, 640, 640)\n",
      "\n",
      "WARNING  torch.Tensor inputs should be normalized 0.0-1.0 but max value is 2549.3125. Dividing input by 255.\n"
     ]
    },
    {
     "name": "stdout",
     "output_type": "stream",
     "text": [
      "no masks found\n"
     ]
    },
    {
     "name": "stderr",
     "output_type": "stream",
     "text": [
      "0: 640x640 2 carotid-arterys, 536.2ms\n",
      "Speed: 0.0ms preprocess, 536.2ms inference, 5.0ms postprocess per image at shape (1, 3, 640, 640)\n",
      "\n",
      "WARNING  torch.Tensor inputs should be normalized 0.0-1.0 but max value is 3043.875. Dividing input by 255.\n",
      "0: 640x640 1 carotid-artery, 468.6ms\n",
      "Speed: 0.0ms preprocess, 468.6ms inference, 8.0ms postprocess per image at shape (1, 3, 640, 640)\n",
      "\n",
      "WARNING  torch.Tensor inputs should be normalized 0.0-1.0 but max value is 3071.0. Dividing input by 255.\n",
      "0: 640x640 (no detections), 505.6ms\n",
      "Speed: 0.0ms preprocess, 505.6ms inference, 0.0ms postprocess per image at shape (1, 3, 640, 640)\n",
      "\n",
      "WARNING  torch.Tensor inputs should be normalized 0.0-1.0 but max value is 3071.0. Dividing input by 255.\n"
     ]
    },
    {
     "name": "stdout",
     "output_type": "stream",
     "text": [
      "no masks found\n"
     ]
    },
    {
     "name": "stderr",
     "output_type": "stream",
     "text": [
      "0: 640x640 (no detections), 512.6ms\n",
      "Speed: 0.0ms preprocess, 512.6ms inference, 1.0ms postprocess per image at shape (1, 3, 640, 640)\n",
      "\n",
      "WARNING  torch.Tensor inputs should be normalized 0.0-1.0 but max value is 3071.0. Dividing input by 255.\n"
     ]
    },
    {
     "name": "stdout",
     "output_type": "stream",
     "text": [
      "no masks found\n"
     ]
    },
    {
     "name": "stderr",
     "output_type": "stream",
     "text": [
      "0: 640x640 (no detections), 482.1ms\n",
      "Speed: 0.0ms preprocess, 482.1ms inference, 1.0ms postprocess per image at shape (1, 3, 640, 640)\n",
      "\n",
      "WARNING  torch.Tensor inputs should be normalized 0.0-1.0 but max value is 3071.0. Dividing input by 255.\n"
     ]
    },
    {
     "name": "stdout",
     "output_type": "stream",
     "text": [
      "no masks found\n"
     ]
    },
    {
     "name": "stderr",
     "output_type": "stream",
     "text": [
      "0: 640x640 (no detections), 557.6ms\n",
      "Speed: 0.0ms preprocess, 557.6ms inference, 1.0ms postprocess per image at shape (1, 3, 640, 640)\n",
      "\n",
      "WARNING  torch.Tensor inputs should be normalized 0.0-1.0 but max value is 3071.0. Dividing input by 255.\n"
     ]
    },
    {
     "name": "stdout",
     "output_type": "stream",
     "text": [
      "no masks found\n"
     ]
    },
    {
     "name": "stderr",
     "output_type": "stream",
     "text": [
      "0: 640x640 (no detections), 550.1ms\n",
      "Speed: 0.0ms preprocess, 550.1ms inference, 1.0ms postprocess per image at shape (1, 3, 640, 640)\n",
      "\n",
      "WARNING  torch.Tensor inputs should be normalized 0.0-1.0 but max value is 3071.0. Dividing input by 255.\n"
     ]
    },
    {
     "name": "stdout",
     "output_type": "stream",
     "text": [
      "no masks found\n"
     ]
    },
    {
     "name": "stderr",
     "output_type": "stream",
     "text": [
      "0: 640x640 (no detections), 498.6ms\n",
      "Speed: 0.0ms preprocess, 498.6ms inference, 1.0ms postprocess per image at shape (1, 3, 640, 640)\n",
      "\n",
      "WARNING  torch.Tensor inputs should be normalized 0.0-1.0 but max value is 3049.875. Dividing input by 255.\n"
     ]
    },
    {
     "name": "stdout",
     "output_type": "stream",
     "text": [
      "no masks found\n"
     ]
    },
    {
     "name": "stderr",
     "output_type": "stream",
     "text": [
      "0: 640x640 (no detections), 563.6ms\n",
      "Speed: 0.0ms preprocess, 563.6ms inference, 0.0ms postprocess per image at shape (1, 3, 640, 640)\n",
      "\n",
      "WARNING  torch.Tensor inputs should be normalized 0.0-1.0 but max value is 1814.0625. Dividing input by 255.\n"
     ]
    },
    {
     "name": "stdout",
     "output_type": "stream",
     "text": [
      "no masks found\n"
     ]
    },
    {
     "name": "stderr",
     "output_type": "stream",
     "text": [
      "0: 640x640 1 carotid-artery, 560.1ms\n",
      "Speed: 0.0ms preprocess, 560.1ms inference, 8.0ms postprocess per image at shape (1, 3, 640, 640)\n",
      "\n",
      "WARNING  torch.Tensor inputs should be normalized 0.0-1.0 but max value is 1577.84375. Dividing input by 255.\n",
      "0: 640x640 (no detections), 497.2ms\n",
      "Speed: 0.0ms preprocess, 497.2ms inference, 1.0ms postprocess per image at shape (1, 3, 640, 640)\n",
      "\n",
      "WARNING  torch.Tensor inputs should be normalized 0.0-1.0 but max value is 1557.0. Dividing input by 255.\n"
     ]
    },
    {
     "name": "stdout",
     "output_type": "stream",
     "text": [
      "no masks found\n"
     ]
    },
    {
     "name": "stderr",
     "output_type": "stream",
     "text": [
      "0: 640x640 (no detections), 560.2ms\n",
      "Speed: 0.0ms preprocess, 560.2ms inference, 0.0ms postprocess per image at shape (1, 3, 640, 640)\n",
      "\n",
      "WARNING  torch.Tensor inputs should be normalized 0.0-1.0 but max value is 1533.625. Dividing input by 255.\n"
     ]
    },
    {
     "name": "stdout",
     "output_type": "stream",
     "text": [
      "no masks found\n"
     ]
    },
    {
     "name": "stderr",
     "output_type": "stream",
     "text": [
      "0: 640x640 (no detections), 517.6ms\n",
      "Speed: 0.0ms preprocess, 517.6ms inference, 0.0ms postprocess per image at shape (1, 3, 640, 640)\n",
      "\n",
      "WARNING  torch.Tensor inputs should be normalized 0.0-1.0 but max value is 1550.75. Dividing input by 255.\n"
     ]
    },
    {
     "name": "stdout",
     "output_type": "stream",
     "text": [
      "no masks found\n"
     ]
    },
    {
     "name": "stderr",
     "output_type": "stream",
     "text": [
      "0: 640x640 1 carotid-artery, 583.6ms\n",
      "Speed: 0.0ms preprocess, 583.6ms inference, 10.0ms postprocess per image at shape (1, 3, 640, 640)\n",
      "\n",
      "WARNING  torch.Tensor inputs should be normalized 0.0-1.0 but max value is 1550.46875. Dividing input by 255.\n",
      "0: 640x640 (no detections), 503.6ms\n",
      "Speed: 0.0ms preprocess, 503.6ms inference, 1.0ms postprocess per image at shape (1, 3, 640, 640)\n",
      "\n",
      "WARNING  torch.Tensor inputs should be normalized 0.0-1.0 but max value is 1543.53125. Dividing input by 255.\n"
     ]
    },
    {
     "name": "stdout",
     "output_type": "stream",
     "text": [
      "no masks found\n"
     ]
    },
    {
     "name": "stderr",
     "output_type": "stream",
     "text": [
      "0: 640x640 1 carotid-artery, 598.1ms\n",
      "Speed: 0.0ms preprocess, 598.1ms inference, 10.0ms postprocess per image at shape (1, 3, 640, 640)\n",
      "\n",
      "WARNING  torch.Tensor inputs should be normalized 0.0-1.0 but max value is 1556.84375. Dividing input by 255.\n",
      "0: 640x640 (no detections), 505.6ms\n",
      "Speed: 0.0ms preprocess, 505.6ms inference, 0.0ms postprocess per image at shape (1, 3, 640, 640)\n",
      "\n",
      "WARNING  torch.Tensor inputs should be normalized 0.0-1.0 but max value is 1563.84375. Dividing input by 255.\n"
     ]
    },
    {
     "name": "stdout",
     "output_type": "stream",
     "text": [
      "no masks found\n"
     ]
    },
    {
     "name": "stderr",
     "output_type": "stream",
     "text": [
      "0: 640x640 2 carotid-arterys, 595.1ms\n",
      "Speed: 0.0ms preprocess, 595.1ms inference, 6.0ms postprocess per image at shape (1, 3, 640, 640)\n",
      "\n",
      "WARNING  torch.Tensor inputs should be normalized 0.0-1.0 but max value is 1570.5. Dividing input by 255.\n",
      "0: 640x640 1 carotid-artery, 472.6ms\n",
      "Speed: 0.0ms preprocess, 472.6ms inference, 9.0ms postprocess per image at shape (1, 3, 640, 640)\n",
      "\n",
      "WARNING  torch.Tensor inputs should be normalized 0.0-1.0 but max value is 1564.34375. Dividing input by 255.\n",
      "0: 640x640 1 carotid-artery, 505.6ms\n",
      "Speed: 0.0ms preprocess, 505.6ms inference, 10.0ms postprocess per image at shape (1, 3, 640, 640)\n",
      "\n",
      "WARNING  torch.Tensor inputs should be normalized 0.0-1.0 but max value is 1547.65625. Dividing input by 255.\n",
      "0: 640x640 1 carotid-artery, 481.6ms\n",
      "Speed: 0.0ms preprocess, 481.6ms inference, 10.0ms postprocess per image at shape (1, 3, 640, 640)\n",
      "\n",
      "WARNING  torch.Tensor inputs should be normalized 0.0-1.0 but max value is 1544.5. Dividing input by 255.\n",
      "0: 640x640 (no detections), 483.7ms\n",
      "Speed: 0.0ms preprocess, 483.7ms inference, 1.0ms postprocess per image at shape (1, 3, 640, 640)\n",
      "\n",
      "WARNING  torch.Tensor inputs should be normalized 0.0-1.0 but max value is 1541.0625. Dividing input by 255.\n"
     ]
    },
    {
     "name": "stdout",
     "output_type": "stream",
     "text": [
      "no masks found\n"
     ]
    },
    {
     "name": "stderr",
     "output_type": "stream",
     "text": [
      "0: 640x640 (no detections), 513.6ms\n",
      "Speed: 0.0ms preprocess, 513.6ms inference, 0.0ms postprocess per image at shape (1, 3, 640, 640)\n",
      "\n",
      "WARNING  torch.Tensor inputs should be normalized 0.0-1.0 but max value is 1537.71875. Dividing input by 255.\n"
     ]
    },
    {
     "name": "stdout",
     "output_type": "stream",
     "text": [
      "no masks found\n"
     ]
    },
    {
     "name": "stderr",
     "output_type": "stream",
     "text": [
      "0: 640x640 1 carotid-artery, 554.8ms\n",
      "Speed: 0.0ms preprocess, 554.8ms inference, 10.0ms postprocess per image at shape (1, 3, 640, 640)\n",
      "\n",
      "WARNING  torch.Tensor inputs should be normalized 0.0-1.0 but max value is 1562.1875. Dividing input by 255.\n",
      "0: 640x640 (no detections), 471.7ms\n",
      "Speed: 0.0ms preprocess, 471.7ms inference, 0.0ms postprocess per image at shape (1, 3, 640, 640)\n",
      "\n",
      "WARNING  torch.Tensor inputs should be normalized 0.0-1.0 but max value is 1574.0625. Dividing input by 255.\n"
     ]
    },
    {
     "name": "stdout",
     "output_type": "stream",
     "text": [
      "no masks found\n"
     ]
    },
    {
     "name": "stderr",
     "output_type": "stream",
     "text": [
      "0: 640x640 1 carotid-artery, 468.6ms\n",
      "Speed: 0.0ms preprocess, 468.6ms inference, 9.0ms postprocess per image at shape (1, 3, 640, 640)\n",
      "\n",
      "WARNING  torch.Tensor inputs should be normalized 0.0-1.0 but max value is 1571.0. Dividing input by 255.\n",
      "0: 640x640 (no detections), 504.6ms\n",
      "Speed: 0.0ms preprocess, 504.6ms inference, 1.0ms postprocess per image at shape (1, 3, 640, 640)\n",
      "\n",
      "WARNING  torch.Tensor inputs should be normalized 0.0-1.0 but max value is 1564.84375. Dividing input by 255.\n"
     ]
    },
    {
     "name": "stdout",
     "output_type": "stream",
     "text": [
      "no masks found\n"
     ]
    },
    {
     "name": "stderr",
     "output_type": "stream",
     "text": [
      "0: 640x640 (no detections), 472.6ms\n",
      "Speed: 0.0ms preprocess, 472.6ms inference, 0.0ms postprocess per image at shape (1, 3, 640, 640)\n",
      "\n",
      "WARNING  torch.Tensor inputs should be normalized 0.0-1.0 but max value is 2562.5. Dividing input by 255.\n"
     ]
    },
    {
     "name": "stdout",
     "output_type": "stream",
     "text": [
      "no masks found\n"
     ]
    },
    {
     "name": "stderr",
     "output_type": "stream",
     "text": [
      "0: 640x640 (no detections), 516.6ms\n",
      "Speed: 0.0ms preprocess, 516.6ms inference, 1.0ms postprocess per image at shape (1, 3, 640, 640)\n",
      "\n",
      "WARNING  torch.Tensor inputs should be normalized 0.0-1.0 but max value is 3071.0. Dividing input by 255.\n"
     ]
    },
    {
     "name": "stdout",
     "output_type": "stream",
     "text": [
      "no masks found\n"
     ]
    },
    {
     "name": "stderr",
     "output_type": "stream",
     "text": [
      "0: 640x640 (no detections), 487.6ms\n",
      "Speed: 0.0ms preprocess, 487.6ms inference, 1.0ms postprocess per image at shape (1, 3, 640, 640)\n",
      "\n",
      "WARNING  torch.Tensor inputs should be normalized 0.0-1.0 but max value is 2961.0625. Dividing input by 255.\n"
     ]
    },
    {
     "name": "stdout",
     "output_type": "stream",
     "text": [
      "no masks found\n"
     ]
    },
    {
     "name": "stderr",
     "output_type": "stream",
     "text": [
      "0: 640x640 (no detections), 547.2ms\n",
      "Speed: 0.0ms preprocess, 547.2ms inference, 1.0ms postprocess per image at shape (1, 3, 640, 640)\n",
      "\n",
      "WARNING  torch.Tensor inputs should be normalized 0.0-1.0 but max value is 1532.84375. Dividing input by 255.\n"
     ]
    },
    {
     "name": "stdout",
     "output_type": "stream",
     "text": [
      "no masks found\n"
     ]
    },
    {
     "name": "stderr",
     "output_type": "stream",
     "text": [
      "0: 640x640 (no detections), 486.6ms\n",
      "Speed: 0.0ms preprocess, 486.6ms inference, 1.0ms postprocess per image at shape (1, 3, 640, 640)\n",
      "\n",
      "WARNING  torch.Tensor inputs should be normalized 0.0-1.0 but max value is 1533.1875. Dividing input by 255.\n"
     ]
    },
    {
     "name": "stdout",
     "output_type": "stream",
     "text": [
      "no masks found\n"
     ]
    },
    {
     "name": "stderr",
     "output_type": "stream",
     "text": [
      "0: 640x640 1 carotid-artery, 547.3ms\n",
      "Speed: 0.0ms preprocess, 547.3ms inference, 10.0ms postprocess per image at shape (1, 3, 640, 640)\n",
      "\n",
      "WARNING  torch.Tensor inputs should be normalized 0.0-1.0 but max value is 1544.84375. Dividing input by 255.\n",
      "0: 640x640 1 carotid-artery, 471.6ms\n",
      "Speed: 0.0ms preprocess, 471.6ms inference, 9.0ms postprocess per image at shape (1, 3, 640, 640)\n",
      "\n",
      "WARNING  torch.Tensor inputs should be normalized 0.0-1.0 but max value is 1556.65625. Dividing input by 255.\n",
      "0: 640x640 (no detections), 464.2ms\n",
      "Speed: 0.0ms preprocess, 464.2ms inference, 1.0ms postprocess per image at shape (1, 3, 640, 640)\n",
      "\n",
      "WARNING  torch.Tensor inputs should be normalized 0.0-1.0 but max value is 1564.09375. Dividing input by 255.\n"
     ]
    },
    {
     "name": "stdout",
     "output_type": "stream",
     "text": [
      "no masks found\n"
     ]
    },
    {
     "name": "stderr",
     "output_type": "stream",
     "text": [
      "0: 640x640 (no detections), 526.2ms\n",
      "Speed: 0.0ms preprocess, 526.2ms inference, 0.0ms postprocess per image at shape (1, 3, 640, 640)\n",
      "\n",
      "WARNING  torch.Tensor inputs should be normalized 0.0-1.0 but max value is 1574.90625. Dividing input by 255.\n"
     ]
    },
    {
     "name": "stdout",
     "output_type": "stream",
     "text": [
      "no masks found\n"
     ]
    },
    {
     "name": "stderr",
     "output_type": "stream",
     "text": [
      "0: 640x640 (no detections), 507.6ms\n",
      "Speed: 0.0ms preprocess, 507.6ms inference, 0.0ms postprocess per image at shape (1, 3, 640, 640)\n",
      "\n",
      "WARNING  torch.Tensor inputs should be normalized 0.0-1.0 but max value is 1572.90625. Dividing input by 255.\n"
     ]
    },
    {
     "name": "stdout",
     "output_type": "stream",
     "text": [
      "no masks found\n"
     ]
    },
    {
     "name": "stderr",
     "output_type": "stream",
     "text": [
      "0: 640x640 1 carotid-artery, 577.2ms\n",
      "Speed: 1.0ms preprocess, 577.2ms inference, 8.0ms postprocess per image at shape (1, 3, 640, 640)\n",
      "\n",
      "WARNING  torch.Tensor inputs should be normalized 0.0-1.0 but max value is 1580.25. Dividing input by 255.\n",
      "0: 640x640 1 carotid-artery, 477.1ms\n",
      "Speed: 0.0ms preprocess, 477.1ms inference, 9.0ms postprocess per image at shape (1, 3, 640, 640)\n",
      "\n",
      "WARNING  torch.Tensor inputs should be normalized 0.0-1.0 but max value is 1583.3125. Dividing input by 255.\n",
      "0: 640x640 (no detections), 476.9ms\n",
      "Speed: 0.0ms preprocess, 476.9ms inference, 1.0ms postprocess per image at shape (1, 3, 640, 640)\n",
      "\n",
      "WARNING  torch.Tensor inputs should be normalized 0.0-1.0 but max value is 1579.75. Dividing input by 255.\n"
     ]
    },
    {
     "name": "stdout",
     "output_type": "stream",
     "text": [
      "no masks found\n"
     ]
    },
    {
     "name": "stderr",
     "output_type": "stream",
     "text": [
      "0: 640x640 (no detections), 539.1ms\n",
      "Speed: 0.0ms preprocess, 539.1ms inference, 1.0ms postprocess per image at shape (1, 3, 640, 640)\n",
      "\n",
      "WARNING  torch.Tensor inputs should be normalized 0.0-1.0 but max value is 1593.75. Dividing input by 255.\n"
     ]
    },
    {
     "name": "stdout",
     "output_type": "stream",
     "text": [
      "no masks found\n"
     ]
    },
    {
     "name": "stderr",
     "output_type": "stream",
     "text": [
      "0: 640x640 1 carotid-artery, 481.5ms\n",
      "Speed: 0.0ms preprocess, 481.5ms inference, 8.0ms postprocess per image at shape (1, 3, 640, 640)\n",
      "\n",
      "WARNING  torch.Tensor inputs should be normalized 0.0-1.0 but max value is 1603.21875. Dividing input by 255.\n",
      "0: 640x640 2 carotid-arterys, 478.6ms\n",
      "Speed: 0.0ms preprocess, 478.6ms inference, 6.0ms postprocess per image at shape (1, 3, 640, 640)\n",
      "\n",
      "WARNING  torch.Tensor inputs should be normalized 0.0-1.0 but max value is 1593.5625. Dividing input by 255.\n",
      "0: 640x640 2 carotid-arterys, 461.6ms\n",
      "Speed: 0.0ms preprocess, 461.6ms inference, 6.0ms postprocess per image at shape (1, 3, 640, 640)\n",
      "\n",
      "WARNING  torch.Tensor inputs should be normalized 0.0-1.0 but max value is 1592.25. Dividing input by 255.\n",
      "0: 640x640 2 carotid-arterys, 499.7ms\n",
      "Speed: 0.0ms preprocess, 499.7ms inference, 5.0ms postprocess per image at shape (1, 3, 640, 640)\n",
      "\n",
      "WARNING  torch.Tensor inputs should be normalized 0.0-1.0 but max value is 1603.46875. Dividing input by 255.\n",
      "0: 640x640 1 carotid-artery, 472.1ms\n",
      "Speed: 0.0ms preprocess, 472.1ms inference, 9.0ms postprocess per image at shape (1, 3, 640, 640)\n",
      "\n",
      "WARNING  torch.Tensor inputs should be normalized 0.0-1.0 but max value is 1613.0625. Dividing input by 255.\n",
      "0: 640x640 1 carotid-artery, 491.7ms\n",
      "Speed: 0.0ms preprocess, 491.7ms inference, 10.0ms postprocess per image at shape (1, 3, 640, 640)\n",
      "\n",
      "WARNING  torch.Tensor inputs should be normalized 0.0-1.0 but max value is 1606.90625. Dividing input by 255.\n",
      "0: 640x640 2 carotid-arterys, 464.6ms\n",
      "Speed: 0.0ms preprocess, 464.6ms inference, 5.0ms postprocess per image at shape (1, 3, 640, 640)\n",
      "\n",
      "WARNING  torch.Tensor inputs should be normalized 0.0-1.0 but max value is 1583.3125. Dividing input by 255.\n",
      "0: 640x640 2 carotid-arterys, 484.4ms\n",
      "Speed: 1.0ms preprocess, 484.4ms inference, 5.0ms postprocess per image at shape (1, 3, 640, 640)\n",
      "\n",
      "WARNING  torch.Tensor inputs should be normalized 0.0-1.0 but max value is 1591.3125. Dividing input by 255.\n",
      "0: 640x640 3 carotid-arterys, 469.6ms\n",
      "Speed: 0.0ms preprocess, 469.6ms inference, 7.0ms postprocess per image at shape (1, 3, 640, 640)\n",
      "\n",
      "WARNING  torch.Tensor inputs should be normalized 0.0-1.0 but max value is 1582.09375. Dividing input by 255.\n",
      "0: 640x640 2 carotid-arterys, 519.7ms\n",
      "Speed: 0.0ms preprocess, 519.7ms inference, 5.0ms postprocess per image at shape (1, 3, 640, 640)\n",
      "\n",
      "WARNING  torch.Tensor inputs should be normalized 0.0-1.0 but max value is 1595.75. Dividing input by 255.\n",
      "0: 640x640 2 carotid-arterys, 462.6ms\n",
      "Speed: 0.0ms preprocess, 462.6ms inference, 6.0ms postprocess per image at shape (1, 3, 640, 640)\n",
      "\n",
      "WARNING  torch.Tensor inputs should be normalized 0.0-1.0 but max value is 1584.09375. Dividing input by 255.\n",
      "0: 640x640 2 carotid-arterys, 503.3ms\n",
      "Speed: 0.0ms preprocess, 503.3ms inference, 3.0ms postprocess per image at shape (1, 3, 640, 640)\n",
      "\n",
      "WARNING  torch.Tensor inputs should be normalized 0.0-1.0 but max value is 1578.4375. Dividing input by 255.\n",
      "0: 640x640 (no detections), 456.1ms\n",
      "Speed: 0.0ms preprocess, 456.1ms inference, 0.0ms postprocess per image at shape (1, 3, 640, 640)\n",
      "\n",
      "WARNING  torch.Tensor inputs should be normalized 0.0-1.0 but max value is 1574.4375. Dividing input by 255.\n"
     ]
    },
    {
     "name": "stdout",
     "output_type": "stream",
     "text": [
      "no masks found\n"
     ]
    },
    {
     "name": "stderr",
     "output_type": "stream",
     "text": [
      "0: 640x640 1 carotid-artery, 517.1ms\n",
      "Speed: 0.0ms preprocess, 517.1ms inference, 11.0ms postprocess per image at shape (1, 3, 640, 640)\n",
      "\n",
      "WARNING  torch.Tensor inputs should be normalized 0.0-1.0 but max value is 1577.0. Dividing input by 255.\n",
      "0: 640x640 1 carotid-artery, 454.2ms\n",
      "Speed: 0.0ms preprocess, 454.2ms inference, 10.5ms postprocess per image at shape (1, 3, 640, 640)\n",
      "\n",
      "WARNING  torch.Tensor inputs should be normalized 0.0-1.0 but max value is 1581.21875. Dividing input by 255.\n",
      "0: 640x640 1 carotid-artery, 519.3ms\n",
      "Speed: 0.0ms preprocess, 519.3ms inference, 10.0ms postprocess per image at shape (1, 3, 640, 640)\n",
      "\n",
      "WARNING  torch.Tensor inputs should be normalized 0.0-1.0 but max value is 1563.0. Dividing input by 255.\n",
      "0: 640x640 (no detections), 450.5ms\n",
      "Speed: 0.0ms preprocess, 450.5ms inference, 0.0ms postprocess per image at shape (1, 3, 640, 640)\n",
      "\n",
      "WARNING  torch.Tensor inputs should be normalized 0.0-1.0 but max value is 1548.375. Dividing input by 255.\n"
     ]
    },
    {
     "name": "stdout",
     "output_type": "stream",
     "text": [
      "no masks found\n"
     ]
    },
    {
     "name": "stderr",
     "output_type": "stream",
     "text": [
      "0: 640x640 1 carotid-artery, 542.6ms\n",
      "Speed: 0.0ms preprocess, 542.6ms inference, 8.3ms postprocess per image at shape (1, 3, 640, 640)\n",
      "\n",
      "WARNING  torch.Tensor inputs should be normalized 0.0-1.0 but max value is 1549.78125. Dividing input by 255.\n",
      "0: 640x640 1 carotid-artery, 465.9ms\n",
      "Speed: 0.0ms preprocess, 465.9ms inference, 9.0ms postprocess per image at shape (1, 3, 640, 640)\n",
      "\n",
      "WARNING  torch.Tensor inputs should be normalized 0.0-1.0 but max value is 1540.15625. Dividing input by 255.\n",
      "0: 640x640 2 carotid-arterys, 580.1ms\n",
      "Speed: 0.0ms preprocess, 580.1ms inference, 6.0ms postprocess per image at shape (1, 3, 640, 640)\n",
      "\n",
      "WARNING  torch.Tensor inputs should be normalized 0.0-1.0 but max value is 1535.15625. Dividing input by 255.\n",
      "0: 640x640 (no detections), 458.8ms\n",
      "Speed: 0.0ms preprocess, 458.8ms inference, 1.0ms postprocess per image at shape (1, 3, 640, 640)\n",
      "\n",
      "WARNING  torch.Tensor inputs should be normalized 0.0-1.0 but max value is 1510.03125. Dividing input by 255.\n"
     ]
    },
    {
     "name": "stdout",
     "output_type": "stream",
     "text": [
      "no masks found\n"
     ]
    },
    {
     "name": "stderr",
     "output_type": "stream",
     "text": [
      "0: 640x640 1 carotid-artery, 465.0ms\n",
      "Speed: 0.0ms preprocess, 465.0ms inference, 10.0ms postprocess per image at shape (1, 3, 640, 640)\n",
      "\n",
      "WARNING  torch.Tensor inputs should be normalized 0.0-1.0 but max value is 1532.4375. Dividing input by 255.\n",
      "0: 640x640 1 carotid-artery, 475.9ms\n",
      "Speed: 0.0ms preprocess, 475.9ms inference, 9.0ms postprocess per image at shape (1, 3, 640, 640)\n",
      "\n",
      "WARNING  torch.Tensor inputs should be normalized 0.0-1.0 but max value is 1473.0. Dividing input by 255.\n",
      "0: 640x640 3 carotid-arterys, 511.7ms\n",
      "Speed: 0.0ms preprocess, 511.7ms inference, 8.0ms postprocess per image at shape (1, 3, 640, 640)\n",
      "\n",
      "WARNING  torch.Tensor inputs should be normalized 0.0-1.0 but max value is 1254.25. Dividing input by 255.\n",
      "0: 640x640 2 carotid-arterys, 460.6ms\n",
      "Speed: 0.0ms preprocess, 460.6ms inference, 4.0ms postprocess per image at shape (1, 3, 640, 640)\n",
      "\n",
      "WARNING  torch.Tensor inputs should be normalized 0.0-1.0 but max value is 1022.625. Dividing input by 255.\n",
      "0: 640x640 2 carotid-arterys, 516.2ms\n",
      "Speed: 0.0ms preprocess, 516.2ms inference, 6.0ms postprocess per image at shape (1, 3, 640, 640)\n",
      "\n",
      "WARNING  torch.Tensor inputs should be normalized 0.0-1.0 but max value is 948.1875. Dividing input by 255.\n",
      "0: 640x640 1 carotid-artery, 458.6ms\n",
      "Speed: 0.0ms preprocess, 458.6ms inference, 9.0ms postprocess per image at shape (1, 3, 640, 640)\n",
      "\n",
      "WARNING  torch.Tensor inputs should be normalized 0.0-1.0 but max value is 895.0. Dividing input by 255.\n",
      "0: 640x640 1 carotid-artery, 459.6ms\n",
      "Speed: 0.0ms preprocess, 459.6ms inference, 10.0ms postprocess per image at shape (1, 3, 640, 640)\n",
      "\n",
      "WARNING  torch.Tensor inputs should be normalized 0.0-1.0 but max value is 838.25. Dividing input by 255.\n",
      "0: 640x640 (no detections), 469.1ms\n",
      "Speed: 0.0ms preprocess, 469.1ms inference, 1.0ms postprocess per image at shape (1, 3, 640, 640)\n",
      "\n",
      "WARNING  torch.Tensor inputs should be normalized 0.0-1.0 but max value is 870.6875. Dividing input by 255.\n"
     ]
    },
    {
     "name": "stdout",
     "output_type": "stream",
     "text": [
      "no masks found\n"
     ]
    },
    {
     "name": "stderr",
     "output_type": "stream",
     "text": [
      "0: 640x640 (no detections), 535.8ms\n",
      "Speed: 0.0ms preprocess, 535.8ms inference, 1.0ms postprocess per image at shape (1, 3, 640, 640)\n",
      "\n",
      "WARNING  torch.Tensor inputs should be normalized 0.0-1.0 but max value is 969.65625. Dividing input by 255.\n"
     ]
    },
    {
     "name": "stdout",
     "output_type": "stream",
     "text": [
      "no masks found\n"
     ]
    },
    {
     "name": "stderr",
     "output_type": "stream",
     "text": [
      "0: 640x640 (no detections), 550.1ms\n",
      "Speed: 0.0ms preprocess, 550.1ms inference, 1.0ms postprocess per image at shape (1, 3, 640, 640)\n",
      "\n",
      "WARNING  torch.Tensor inputs should be normalized 0.0-1.0 but max value is 1027.6875. Dividing input by 255.\n"
     ]
    },
    {
     "name": "stdout",
     "output_type": "stream",
     "text": [
      "no masks found\n"
     ]
    },
    {
     "name": "stderr",
     "output_type": "stream",
     "text": [
      "0: 640x640 1 carotid-artery, 504.4ms\n",
      "Speed: 0.0ms preprocess, 504.4ms inference, 9.0ms postprocess per image at shape (1, 3, 640, 640)\n",
      "\n",
      "WARNING  torch.Tensor inputs should be normalized 0.0-1.0 but max value is 1049.71875. Dividing input by 255.\n",
      "0: 640x640 1 carotid-artery, 545.2ms\n",
      "Speed: 0.0ms preprocess, 545.2ms inference, 8.0ms postprocess per image at shape (1, 3, 640, 640)\n",
      "\n",
      "WARNING  torch.Tensor inputs should be normalized 0.0-1.0 but max value is 1033.84375. Dividing input by 255.\n",
      "0: 640x640 (no detections), 467.8ms\n",
      "Speed: 0.0ms preprocess, 467.8ms inference, 0.0ms postprocess per image at shape (1, 3, 640, 640)\n",
      "\n",
      "WARNING  torch.Tensor inputs should be normalized 0.0-1.0 but max value is 1032.75. Dividing input by 255.\n"
     ]
    },
    {
     "name": "stdout",
     "output_type": "stream",
     "text": [
      "no masks found\n"
     ]
    },
    {
     "name": "stderr",
     "output_type": "stream",
     "text": [
      "0: 640x640 (no detections), 533.6ms\n",
      "Speed: 0.0ms preprocess, 533.6ms inference, 1.0ms postprocess per image at shape (1, 3, 640, 640)\n",
      "\n",
      "WARNING  torch.Tensor inputs should be normalized 0.0-1.0 but max value is 932.125. Dividing input by 255.\n"
     ]
    },
    {
     "name": "stdout",
     "output_type": "stream",
     "text": [
      "no masks found\n"
     ]
    },
    {
     "name": "stderr",
     "output_type": "stream",
     "text": [
      "0: 640x640 (no detections), 497.6ms\n",
      "Speed: 0.0ms preprocess, 497.6ms inference, 0.0ms postprocess per image at shape (1, 3, 640, 640)\n",
      "\n",
      "WARNING  torch.Tensor inputs should be normalized 0.0-1.0 but max value is 798.15625. Dividing input by 255.\n"
     ]
    },
    {
     "name": "stdout",
     "output_type": "stream",
     "text": [
      "no masks found\n"
     ]
    },
    {
     "name": "stderr",
     "output_type": "stream",
     "text": [
      "0: 640x640 (no detections), 569.1ms\n",
      "Speed: 0.0ms preprocess, 569.1ms inference, 1.0ms postprocess per image at shape (1, 3, 640, 640)\n",
      "\n",
      "WARNING  torch.Tensor inputs should be normalized 0.0-1.0 but max value is 855.625. Dividing input by 255.\n"
     ]
    },
    {
     "name": "stdout",
     "output_type": "stream",
     "text": [
      "no masks found\n"
     ]
    },
    {
     "name": "stderr",
     "output_type": "stream",
     "text": [
      "0: 640x640 (no detections), 497.2ms\n",
      "Speed: 0.0ms preprocess, 497.2ms inference, 1.0ms postprocess per image at shape (1, 3, 640, 640)\n",
      "\n",
      "WARNING  torch.Tensor inputs should be normalized 0.0-1.0 but max value is 826.15625. Dividing input by 255.\n"
     ]
    },
    {
     "name": "stdout",
     "output_type": "stream",
     "text": [
      "no masks found\n"
     ]
    },
    {
     "name": "stderr",
     "output_type": "stream",
     "text": [
      "0: 640x640 (no detections), 553.1ms\n",
      "Speed: 0.0ms preprocess, 553.1ms inference, 1.0ms postprocess per image at shape (1, 3, 640, 640)\n",
      "\n",
      "WARNING  torch.Tensor inputs should be normalized 0.0-1.0 but max value is 936.1875. Dividing input by 255.\n"
     ]
    },
    {
     "name": "stdout",
     "output_type": "stream",
     "text": [
      "no masks found\n"
     ]
    },
    {
     "name": "stderr",
     "output_type": "stream",
     "text": [
      "0: 640x640 (no detections), 496.6ms\n",
      "Speed: 0.0ms preprocess, 496.6ms inference, 0.0ms postprocess per image at shape (1, 3, 640, 640)\n",
      "\n",
      "WARNING  torch.Tensor inputs should be normalized 0.0-1.0 but max value is 939.25. Dividing input by 255.\n"
     ]
    },
    {
     "name": "stdout",
     "output_type": "stream",
     "text": [
      "no masks found\n"
     ]
    },
    {
     "name": "stderr",
     "output_type": "stream",
     "text": [
      "0: 640x640 (no detections), 540.2ms\n",
      "Speed: 0.0ms preprocess, 540.2ms inference, 1.0ms postprocess per image at shape (1, 3, 640, 640)\n",
      "\n",
      "WARNING  torch.Tensor inputs should be normalized 0.0-1.0 but max value is 1001.0. Dividing input by 255.\n"
     ]
    },
    {
     "name": "stdout",
     "output_type": "stream",
     "text": [
      "no masks found\n"
     ]
    },
    {
     "name": "stderr",
     "output_type": "stream",
     "text": [
      "0: 640x640 (no detections), 497.2ms\n",
      "Speed: 0.0ms preprocess, 497.2ms inference, 1.0ms postprocess per image at shape (1, 3, 640, 640)\n",
      "\n",
      "WARNING  torch.Tensor inputs should be normalized 0.0-1.0 but max value is 967.875. Dividing input by 255.\n"
     ]
    },
    {
     "name": "stdout",
     "output_type": "stream",
     "text": [
      "no masks found\n"
     ]
    },
    {
     "name": "stderr",
     "output_type": "stream",
     "text": [
      "0: 640x640 (no detections), 541.1ms\n",
      "Speed: 0.0ms preprocess, 541.1ms inference, 1.0ms postprocess per image at shape (1, 3, 640, 640)\n",
      "\n",
      "WARNING  torch.Tensor inputs should be normalized 0.0-1.0 but max value is 849.46875. Dividing input by 255.\n"
     ]
    },
    {
     "name": "stdout",
     "output_type": "stream",
     "text": [
      "no masks found\n"
     ]
    },
    {
     "name": "stderr",
     "output_type": "stream",
     "text": [
      "0: 640x640 (no detections), 566.6ms\n",
      "Speed: 0.0ms preprocess, 566.6ms inference, 0.0ms postprocess per image at shape (1, 3, 640, 640)\n",
      "\n",
      "WARNING  torch.Tensor inputs should be normalized 0.0-1.0 but max value is 713.03125. Dividing input by 255.\n"
     ]
    },
    {
     "name": "stdout",
     "output_type": "stream",
     "text": [
      "no masks found\n"
     ]
    },
    {
     "name": "stderr",
     "output_type": "stream",
     "text": [
      "0: 640x640 (no detections), 486.7ms\n",
      "Speed: 0.0ms preprocess, 486.7ms inference, 1.0ms postprocess per image at shape (1, 3, 640, 640)\n",
      "\n",
      "WARNING  torch.Tensor inputs should be normalized 0.0-1.0 but max value is 666.25. Dividing input by 255.\n"
     ]
    },
    {
     "name": "stdout",
     "output_type": "stream",
     "text": [
      "no masks found\n"
     ]
    },
    {
     "name": "stderr",
     "output_type": "stream",
     "text": [
      "0: 640x640 (no detections), 566.6ms\n",
      "Speed: 0.0ms preprocess, 566.6ms inference, 0.0ms postprocess per image at shape (1, 3, 640, 640)\n",
      "\n",
      "WARNING  torch.Tensor inputs should be normalized 0.0-1.0 but max value is 634.0. Dividing input by 255.\n"
     ]
    },
    {
     "name": "stdout",
     "output_type": "stream",
     "text": [
      "no masks found\n"
     ]
    },
    {
     "name": "stderr",
     "output_type": "stream",
     "text": [
      "0: 640x640 (no detections), 544.6ms\n",
      "Speed: 0.0ms preprocess, 544.6ms inference, 1.0ms postprocess per image at shape (1, 3, 640, 640)\n",
      "\n",
      "WARNING  torch.Tensor inputs should be normalized 0.0-1.0 but max value is 616.03125. Dividing input by 255.\n"
     ]
    },
    {
     "name": "stdout",
     "output_type": "stream",
     "text": [
      "no masks found\n"
     ]
    },
    {
     "name": "stderr",
     "output_type": "stream",
     "text": [
      "0: 640x640 (no detections), 526.6ms\n",
      "Speed: 0.0ms preprocess, 526.6ms inference, 0.0ms postprocess per image at shape (1, 3, 640, 640)\n",
      "\n",
      "WARNING  torch.Tensor inputs should be normalized 0.0-1.0 but max value is 533.71875. Dividing input by 255.\n"
     ]
    },
    {
     "name": "stdout",
     "output_type": "stream",
     "text": [
      "no masks found\n"
     ]
    },
    {
     "name": "stderr",
     "output_type": "stream",
     "text": [
      "0: 640x640 (no detections), 548.6ms\n",
      "Speed: 0.0ms preprocess, 548.6ms inference, 0.0ms postprocess per image at shape (1, 3, 640, 640)\n",
      "\n",
      "WARNING  torch.Tensor inputs should be normalized 0.0-1.0 but max value is 552.5625. Dividing input by 255.\n"
     ]
    },
    {
     "name": "stdout",
     "output_type": "stream",
     "text": [
      "no masks found\n"
     ]
    },
    {
     "name": "stderr",
     "output_type": "stream",
     "text": [
      "0: 640x640 (no detections), 494.5ms\n",
      "Speed: 0.0ms preprocess, 494.5ms inference, 0.0ms postprocess per image at shape (1, 3, 640, 640)\n",
      "\n",
      "WARNING  torch.Tensor inputs should be normalized 0.0-1.0 but max value is 523.96875. Dividing input by 255.\n"
     ]
    },
    {
     "name": "stdout",
     "output_type": "stream",
     "text": [
      "no masks found\n"
     ]
    },
    {
     "name": "stderr",
     "output_type": "stream",
     "text": [
      "0: 640x640 (no detections), 547.9ms\n",
      "Speed: 0.0ms preprocess, 547.9ms inference, 0.0ms postprocess per image at shape (1, 3, 640, 640)\n"
     ]
    },
    {
     "name": "stdout",
     "output_type": "stream",
     "text": [
      "no masks found\n"
     ]
    }
   ],
   "source": [
    "import os\n",
    "import numpy as np\n",
    "from pydicom.dataset import FileDataset\n",
    "from pydicom.uid import generate_uid\n",
    "from ultralytics import YOLO\n",
    "import cv2\n",
    "from torchvision.transforms import functional as F\n",
    "\n",
    "# Load the YOLOv5 model\n",
    "model = YOLO(\"best.pt\")\n",
    "\n",
    "def detected_array_to_dicom(output_images, output_filename):\n",
    "\n",
    "    ds = FileDataset(output_filename, {}, file_meta={}, preamble=b\"\\0\" * 128)\n",
    "    output_images = np.array(output_images)\n",
    "    # Set necessary DICOM metadata\n",
    "    ds.Modality = 'CT'\n",
    "    ds.SeriesInstanceUID = generate_uid()\n",
    "    ds.StudyInstanceUID = generate_uid()\n",
    "    ds.FrameOfReferenceUID = generate_uid()\n",
    "    ds.BitsStored = 8\n",
    "    ds.SamplesPerPixel = 1\n",
    "    ds.PhotometricInterpretation = \"RGB\"  # Use MONOCHROME2 for grayscale images\n",
    "    ds.PixelRepresentation = 0\n",
    "    ds.HighBit = 15\n",
    "    ds.Rows = output_images.shape[1]\n",
    "    ds.Columns = output_images.shape[2]\n",
    "    ds.NumberOfFrames = output_images.shape[0]  # Set the number of frames to the number of slices\n",
    "\n",
    "    # Set pixel data\n",
    "    ds.PixelData = output_images.astype(np.uint8).tobytes()\n",
    "\n",
    "    # Save DICOM file\n",
    "    ds.save_as(output_filename)\n",
    "\n",
    "def detect_and_save_coronal_arrays(imgs_after_resamp, output_dir):\n",
    "    # Create the output directory if it doesn't exist\n",
    "    os.makedirs(output_dir, exist_ok=True)\n",
    "\n",
    "    num_coronal_slices = imgs_after_resamp.shape[1]  # Total number of coronal slices\n",
    "\n",
    "    output_size = (512, 512)  # Size of the output images\n",
    "    output_images = []  # List of output images\n",
    "    # Loop over the images in the numpy array, make predictions, and store them in the `predictions` list\n",
    "    for img in imgs_after_resamp:\n",
    "\n",
    "        # convert PIL Image to float 32\n",
    "        img = img.astype(np.float32)\n",
    "        # Convert the image to a PIL Image\n",
    "        img_pil = F.to_pil_image(img)\n",
    "\n",
    "        # Resize the image to a size divisible by 32\n",
    "        img_pil = F.resize(img_pil, (640, 640))\n",
    "\n",
    "        img_pil = np.stack((img_pil,) * 3, axis=-1)\n",
    "\n",
    "        # Convert the PIL Image to a torch tensor\n",
    "        img_tensor = F.to_tensor(img_pil)\n",
    "\n",
    "        # Add a batch dimension to the tensor\n",
    "        img_tensor = img_tensor.unsqueeze(0)\n",
    "\n",
    "        # Make predictions using the YOLOv8 model\n",
    "        results = model(img_tensor)\n",
    "        # img = img.astype(np.uint8)\n",
    "        img = np.expand_dims(img, axis=0)\n",
    "        img = np.repeat(img, 3, axis=0)\n",
    "        img = np.transpose(img, (1, 2, 0))\n",
    "        min_value = np.min(img)\n",
    "        max_value = np.max(img)\n",
    "        img =  ((img - min_value) * (255 / (max_value - min_value))).astype(np.uint8)\n",
    "\n",
    "        for result in results:\n",
    "            try:\n",
    "                masks = result.masks\n",
    "                # Apply each mask to the image\n",
    "                for mask in masks.data:\n",
    "                    color_mask = np.array([255, 0, 0], dtype=int)  # Red color for the mask\n",
    "                    mask = mask.bool().numpy()  # Convert mask to boolean array\n",
    "                    mask = cv2.resize(mask.astype(np.uint8), (img.shape[1], img.shape[0]), interpolation=cv2.INTER_LINEAR)  # Resize mask to match image dimensions\n",
    "                    img[mask > 0] = color_mask  # Apply red color to the mask\n",
    "                    # Resize the image to the common size\n",
    "                    img = cv2.resize(img, output_size, interpolation=cv2.INTER_LINEAR)\n",
    "                    # Append the result to the predictions list\n",
    "                output_images.append(img)\n",
    "            except:\n",
    "                print(\"no masks found\")\n",
    "    id = 0\n",
    "    detected_array_to_dicom(output_images, os.path.join(output_dir, \"coronal_slice_{}.dcm\".format(id)))\n",
    "\n",
    "\n",
    "\n",
    "\n",
    "# Example usage\n",
    "output_dir = \"output_coronal_dicom\"  # Output directory for DICOM files\n",
    "\n",
    "detect_and_save_coronal_arrays(coronal_imgs, output_dir)"
   ]
  },
  {
   "cell_type": "code",
   "execution_count": 98,
   "id": "dfdc35fc",
   "metadata": {},
   "outputs": [],
   "source": [
    "import os\n",
    "import numpy as np\n",
    "from PIL import Image\n",
    "from pydicom import dcmread\n",
    "from pydicom.dataset import FileDataset\n",
    "from pydicom.uid import generate_uid\n",
    "\n",
    "def pngs_to_dicom(input_dir, output_dir, series_ID):\n",
    "    # Create the output directory if it doesn't exist\n",
    "    os.makedirs(output_dir, exist_ok=True)\n",
    "    \n",
    "    # List PNG files in the input directory\n",
    "    png_files = [f for f in os.listdir(input_dir) if f.endswith('.png')]\n",
    "    png_files.sort()  # Sort the PNG files to maintain the correct order of slices\n",
    "    \n",
    "    if not png_files:\n",
    "        raise ValueError(\"No PNG files found in the input directory\")\n",
    "    \n",
    "    # Read the first PNG to get image size and initialize the 3D volume array\n",
    "    first_png_path = os.path.join(input_dir, png_files[0])\n",
    "    first_png_image = Image.open(first_png_path)\n",
    "    np_frame_shape = (len(png_files), first_png_image.size[1], first_png_image.size[0], 3)\n",
    "    np_volume = np.zeros(np_frame_shape, dtype=np.uint8)\n",
    "    \n",
    "    # Load each PNG image and stack them to create the 3D volume\n",
    "    for idx, png_filename in enumerate(png_files):\n",
    "        png_path = os.path.join(input_dir, png_filename)\n",
    "        png_image = Image.open(png_path)\n",
    "        np_frame = np.array(png_image)[:,:,:3]\n",
    "        np_volume[idx] = np_frame\n",
    "    \n",
    "    # Create DICOM dataset for the 3D volume\n",
    "    dicom_filename = os.path.join(output_dir, f\"{series_ID}.dcm\")\n",
    "    ds = FileDataset(dicom_filename, {}, file_meta={}, preamble=b\"\\0\" * 128)\n",
    "    \n",
    "    # Set necessary DICOM metadata (assuming all slices have the same metadata)\n",
    "    ds.Modality = 'CT'\n",
    "    ds.SeriesInstanceUID = generate_uid()\n",
    "    ds.StudyInstanceUID = generate_uid()\n",
    "    ds.FrameOfReferenceUID = generate_uid()\n",
    "    ds.BitsStored = 8\n",
    "    ds.SamplesPerPixel = 3  # RGB image has 3 samples per pixel\n",
    "    ds.PhotometricInterpretation = \"RGB\"\n",
    "    ds.PixelRepresentation = 0\n",
    "    ds.HighBit = 7\n",
    "    ds.Rows = np_frame_shape[1]\n",
    "    ds.Columns = np_frame_shape[2]\n",
    "    ds.NumberOfFrames = np_frame_shape[0]  # Number of frames is the number of PNG slices\n",
    "\n",
    "    # Set pixel data\n",
    "    ds.PixelData = np_volume.tobytes()\n",
    "\n",
    "    # Save DICOM file\n",
    "    ds.save_as(dicom_filename)\n",
    "\n",
    "# Example usage\n",
    "input_dir = \"output_slices/coronal_slices\"  # Directory containing PNG images\n",
    "output_dir = \"output_/coronal_dicom\"  # Replace with your desired output directory for DICOM files\n",
    "series_ID = \"12345\"  # Replace with your desired series ID\n",
    "\n",
    "pngs_to_dicom(input_dir, output_dir, series_ID)\n",
    "\n"
   ]
  }
 ],
 "metadata": {
  "kernelspec": {
   "display_name": "Python 3 (ipykernel)",
   "language": "python",
   "name": "python3"
  },
  "language_info": {
   "codemirror_mode": {
    "name": "ipython",
    "version": 3
   },
   "file_extension": ".py",
   "mimetype": "text/x-python",
   "name": "python",
   "nbconvert_exporter": "python",
   "pygments_lexer": "ipython3",
   "version": "3.10.11"
  }
 },
 "nbformat": 4,
 "nbformat_minor": 5
}
